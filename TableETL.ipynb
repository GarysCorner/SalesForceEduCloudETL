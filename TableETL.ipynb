{
 "cells": [
  {
   "cell_type": "code",
   "execution_count": 1,
   "id": "e773963d-2455-4fe4-bc5d-19b273a34a1b",
   "metadata": {},
   "outputs": [
    {
     "data": {
      "text/plain": [
       "True"
      ]
     },
     "execution_count": 1,
     "metadata": {},
     "output_type": "execute_result"
    }
   ],
   "source": [
    "import pandas as pd\n",
    "import numpy as np\n",
    "import sqlalchemy as sa\n",
    "from datetime import datetime\n",
    "\n",
    "from collections import defaultdict, OrderedDict\n",
    "\n",
    "from simple_salesforce import Salesforce\n",
    "from os import environ\n",
    "from dotenv import load_dotenv\n",
    "load_dotenv()"
   ]
  },
  {
   "cell_type": "code",
   "execution_count": null,
   "id": "f4c83570-e9ae-4ce2-9258-0c2bb0ef780b",
   "metadata": {},
   "outputs": [],
   "source": [
    "sfusername = environ.get('sfusername')\n",
    "sfpassword = environ.get('sfpassword')\n",
    "sfsecret = environ.get(\"sfsecret\")\n",
    "sfinstanceurl = environ.get(\"sfinstanceurl\")\n",
    "connstr = environ.get(\"connstr\")"
   ]
  },
  {
   "cell_type": "code",
   "execution_count": null,
   "id": "5dd7a590-da82-4936-ab95-0b4c94b4c2cf",
   "metadata": {},
   "outputs": [],
   "source": [
    "lprint(\"Creating engine for %s\" % connstr)\n",
    "engine = sa.create_engine(connstr)"
   ]
  },
  {
   "cell_type": "code",
   "execution_count": 3,
   "id": "38316999-4360-4d79-ae30-c7a7ca230b4e",
   "metadata": {},
   "outputs": [],
   "source": [
    "desiredTables = [\n",
    "    #'AcademicTermEnrollment',\n",
    "    'Account',\n",
    "    'Contact'\n",
    "]"
   ]
  },
  {
   "cell_type": "code",
   "execution_count": 4,
   "id": "ea24398c-41c7-44b2-94b0-e788406df531",
   "metadata": {},
   "outputs": [],
   "source": [
    "soqlFilters = defaultdict(lambda: \"where IsDeleted = false\", {\n",
    "    'AcademicTermEnrollment':'where Active__c = true and IsDeleted = false'\n",
    "})"
   ]
  },
  {
   "cell_type": "code",
   "execution_count": null,
   "id": "d4a95a96-d3ee-4fd1-a7a2-7005c0cc94db",
   "metadata": {},
   "outputs": [],
   "source": [
    "logfile = open(\"TableETL.log\",\"w\")\n",
    "def lprint(val):\n",
    "    outstr = \"[%s] %s\" % (datetime.now(), val)\n",
    "    print(outstr)\n",
    "    logfile.write(outstr)\n",
    "    logfile.write(\"\\n\")\n",
    "    logfile.flush()\n",
    "    \n",
    "lprint(\"Started...\")"
   ]
  },
  {
   "cell_type": "code",
   "execution_count": 7,
   "id": "2ac22aa4-7509-4bf9-bfb2-98a4464074c3",
   "metadata": {},
   "outputs": [
    {
     "name": "stdout",
     "output_type": "stream",
     "text": [
      "[2023-06-30 11:53:31.223830] Creating sessions...\n",
      "[2023-06-30 11:53:31.862540] Session created!\n"
     ]
    }
   ],
   "source": [
    "lprint(\"Creating sessions...\")\n",
    "sf = Salesforce(username=sfusername, password=sfpassword, security_token=sfsecret, instance_url=sfinstanceurl, version='57.0')\n",
    "lprint(\"Session created!\")"
   ]
  },
  {
   "cell_type": "code",
   "execution_count": 8,
   "id": "bb380df4-a9ab-4a38-ade5-18a5d861f0fe",
   "metadata": {},
   "outputs": [
    {
     "name": "stdout",
     "output_type": "stream",
     "text": [
      "[2023-06-30 11:53:31.881475] Getting metadata for Account\n",
      "[2023-06-30 11:53:32.645309] Getting metadata for Contact\n"
     ]
    }
   ],
   "source": [
    "metaData = {}\n",
    "\n",
    "for tbl in desiredTables:\n",
    "    fieldDescs = {}\n",
    "    \n",
    "    lprint(\"Getting metadata for %s\" % tbl)\n",
    "    \n",
    "    tblDesc = getattr(sf, tbl).describe()\n",
    "    \n",
    "    for field in tblDesc['fields']:\n",
    "        fieldDescs[field['name']] = {\n",
    "                                'type':field['type'],\n",
    "                                'length':field['length']\n",
    "        }\n",
    "        \n",
    "    \n",
    "    metaData[tbl] = fieldDescs\n",
    "    \n"
   ]
  },
  {
   "cell_type": "code",
   "execution_count": 9,
   "id": "f574eff1-f9f8-4064-bcec-136f4415da11",
   "metadata": {},
   "outputs": [
    {
     "name": "stdout",
     "output_type": "stream",
     "text": [
      "[2023-06-30 11:53:32.998278] Querying data for Account\n",
      "[2023-06-30 11:53:32.998278] Starting query:  select Id, IsDeleted, MasterRecordId, Name, LastName, FirstName, Salutation, Type, RecordTypeId, ParentId, BillingStreet, BillingCity, BillingState, BillingPostalCode, BillingCountry, BillingLatitude, BillingLongitude, BillingGeocodeAccuracy, BillingAddress, ShippingStreet, ShippingCity, ShippingState, ShippingPostalCode, ShippingCountry, ShippingLatitude, ShippingLongitude, ShippingGeocodeAccuracy, ShippingAddress, Phone, Fax, Website, PhotoUrl, Industry, AnnualRevenue, NumberOfEmployees, Description, OwnerId, CreatedDate, CreatedById, LastModifiedDate, LastModifiedById, SystemModstamp, LastActivityDate, LastViewedDate, LastReferencedDate, IsCustomerPortal, PersonContactId, IsPersonAccount, PersonMailingStreet, PersonMailingCity, PersonMailingState, PersonMailingPostalCode, PersonMailingCountry, PersonMailingLatitude, PersonMailingLongitude, PersonMailingGeocodeAccuracy, PersonMailingAddress, PersonOtherStreet, PersonOtherCity, PersonOtherState, PersonOtherPostalCode, PersonOtherCountry, PersonOtherLatitude, PersonOtherLongitude, PersonOtherGeocodeAccuracy, PersonOtherAddress, PersonMobilePhone, PersonHomePhone, PersonOtherPhone, PersonAssistantPhone, PersonEmail, PersonTitle, PersonDepartment, PersonAssistantName, PersonLeadSource, PersonBirthdate, PersonLastCURequestDate, PersonLastCUUpdateDate, PersonEmailBouncedReason, PersonEmailBouncedDate, PersonIndividualId, PersonPronouns, PersonGenderIdentity, Jigsaw, JigsawCompanyId, AccountSource, SicDesc, OperatingHoursId, CMO_Group__c, Record_Type_Name__c, School_Roster__c, Elementary_School__c, Grade_Levels__c, Has_Waitlist__c, Head_Start_School__c, High_School__c, Legacy_Id__c, Middle_School__c, Person_Contact_Id__c, Phase_Out_Grades__c, Pre_school__c, School_Code__c, School_Notification_Email__c, Terminal_Grade__c, District_Type__c, Governance__c, Letter_Grade__c, School_Coordinates__Latitude__s, School_Coordinates__Longitude__s, School_Coordinates__c, School_Status__c, CleanPhone__c, Legacy_OneApp_ID__c, LASID__c, Is_Student_in_Terminal_Grade__pc, X18_Digit_Id__pc, Active__pc, Current_Enrolled_Grade__pc, Current_Enrolled_School__pc, Currently_Enrolled_Program__pc, Date_Promotion_Decision_was_Entered__pc, Deceased__pc, Do_not_create_Person_Account__pc, Ethnicity__pc, Expelled__pc, Home_Language__pc, Legacy_Id__pc, New_Match__pc, No_Show__pc, OneApp_ID__pc, Promotion_Decision__pc, Race__pc, Type__pc, Was_Processed_Through_Discharge_Batch__pc, Birthdate_Text__pc, Grade_Level__pc, Has_Twin__pc, Local_ID__pc, Re_Entry_Date__pc, Re_Entry_Status__pc, School_Expelled_From__pc, Total_Enrollments_This_Term__pc from Account where IsDeleted = false\n",
      "[2023-06-30 11:53:46.208703] Finished Account\n",
      "[2023-06-30 11:53:46.208703] Querying data for Contact\n",
      "[2023-06-30 11:53:46.208703] Starting query:  select Id, IsDeleted, MasterRecordId, AccountId, IsPersonAccount, LastName, FirstName, Salutation, Name, RecordTypeId, OtherStreet, OtherCity, OtherState, OtherPostalCode, OtherCountry, OtherLatitude, OtherLongitude, OtherGeocodeAccuracy, OtherAddress, MailingStreet, MailingCity, MailingState, MailingPostalCode, MailingCountry, MailingLatitude, MailingLongitude, MailingGeocodeAccuracy, MailingAddress, Phone, Fax, MobilePhone, HomePhone, OtherPhone, AssistantPhone, ReportsToId, Email, Title, Department, AssistantName, LeadSource, Birthdate, Description, OwnerId, CreatedDate, CreatedById, LastModifiedDate, LastModifiedById, SystemModstamp, LastActivityDate, LastCURequestDate, LastCUUpdateDate, LastViewedDate, LastReferencedDate, EmailBouncedReason, EmailBouncedDate, IsEmailBounced, PhotoUrl, Jigsaw, JigsawContactId, IndividualId, DeceasedDate, Pronouns, GenderIdentity, Is_Student_in_Terminal_Grade__c, X18_Digit_Id__c, Active__c, Current_Enrolled_Grade__c, Current_Enrolled_School__c, Currently_Enrolled_Program__c, Date_Promotion_Decision_was_Entered__c, Deceased__c, Do_not_create_Person_Account__c, Ethnicity__c, Expelled__c, Home_Language__c, Legacy_Id__c, New_Match__c, No_Show__c, OneApp_ID__c, Promotion_Decision__c, Race__c, Type__c, Was_Processed_Through_Discharge_Batch__c, Birthdate_Text__c, Grade_Level__c, Has_Twin__c, Local_ID__c, Re_Entry_Date__c, Re_Entry_Status__c, School_Expelled_From__c, Total_Enrollments_This_Term__c from Contact where IsDeleted = false\n",
      "[2023-06-30 11:53:53.488639] Finished Contact\n"
     ]
    }
   ],
   "source": [
    "outputData = {}\n",
    "\n",
    "for tbl in desiredTables:\n",
    "    lprint(\"Querying data for %s\" % tbl)\n",
    "    \n",
    "    feilds = \", \".join(metaData[tbl].keys())\n",
    "    \n",
    "    soql = \"select %s from %s %s\" % (feilds, tbl, soqlFilters[tbl])\n",
    "    \n",
    "    \n",
    "    lprint(\"Starting query:  %s\" % soql)\n",
    "    resp = sf.query_all(soql)\n",
    "    \n",
    "    outputData[tbl] = resp\n",
    "    \n",
    "    lprint(\"Finished %s\" % tbl)\n",
    "    "
   ]
  },
  {
   "cell_type": "code",
   "execution_count": 10,
   "id": "5d7c7d0d-a8df-4dac-a889-68d928c51364",
   "metadata": {},
   "outputs": [
    {
     "name": "stdout",
     "output_type": "stream",
     "text": [
      "[2023-06-30 11:53:53.498476] Account totalRecords 7242\n",
      "[2023-06-30 11:53:53.498476] Contact totalRecords 7234\n"
     ]
    }
   ],
   "source": [
    "for tbl in outputData.keys():\n",
    "    lprint(\"%s totalRecords %d\" % (tbl, outputData[tbl]['totalSize']))"
   ]
  },
  {
   "cell_type": "code",
   "execution_count": 11,
   "id": "fe12092c-1883-4e1e-b7f6-f24a6779da0b",
   "metadata": {},
   "outputs": [
    {
     "name": "stdout",
     "output_type": "stream",
     "text": [
      "[2023-06-30 11:53:53.507717] Turning output data into dataframes\n",
      "[2023-06-30 11:53:54.008245] Dropping attributes from Contact\n",
      "[2023-06-30 11:53:54.024208] Account shape (7242, 142)\n",
      "[2023-06-30 11:53:54.025371] Dropping attributes from Contact\n",
      "[2023-06-30 11:53:54.037172] Contact shape (7234, 91)\n"
     ]
    }
   ],
   "source": [
    "lprint(\"Turning output data into dataframes\")\n",
    "dataFrames = {tbl:pd.DataFrame.from_dict(outputData[tbl]['records']) for tbl in desiredTables}\n",
    "\n",
    "for key in dataFrames.keys():\n",
    "    \n",
    "    \n",
    "    if 'attributes' in dataFrames[key].columns:\n",
    "        \n",
    "        lprint(\"Dropping attributes from %s\" % tbl)\n",
    "        dataFrames[key].drop(columns=['attributes'], inplace=True)\n",
    "    \n",
    "    lprint(\"%s shape %s\" % (key, dataFrames[key].shape))"
   ]
  },
  {
   "cell_type": "code",
   "execution_count": 12,
   "id": "6ea6e635-a95c-4e3a-af4a-8f296607d79f",
   "metadata": {},
   "outputs": [
    {
     "name": "stdout",
     "output_type": "stream",
     "text": [
      "[2023-06-30 11:53:54.044148] Converting datetimes for Account...\n",
      "[2023-06-30 11:53:54.044148] Converting CreatedDate to datetime...\n",
      "[2023-06-30 11:53:54.072731] Converting LastModifiedDate to datetime...\n",
      "[2023-06-30 11:53:54.093175] Converting SystemModstamp to datetime...\n",
      "[2023-06-30 11:53:54.113481] Converting LastActivityDate to datetime...\n",
      "[2023-06-30 11:53:54.128502] Converting LastViewedDate to datetime...\n",
      "[2023-06-30 11:53:54.142112] Converting LastReferencedDate to datetime...\n",
      "[2023-06-30 11:53:54.156108] Converting PersonBirthdate to datetime...\n",
      "[2023-06-30 11:53:54.173228] Converting PersonLastCURequestDate to datetime...\n",
      "[2023-06-30 11:53:54.187105] Converting PersonLastCUUpdateDate to datetime...\n",
      "[2023-06-30 11:53:54.200640] Converting PersonEmailBouncedDate to datetime...\n",
      "[2023-06-30 11:53:54.214532] Converting Date_Promotion_Decision_was_Entered__pc to datetime...\n",
      "[2023-06-30 11:53:54.229496] Converting Re_Entry_Date__pc to datetime...\n",
      "[2023-06-30 11:53:54.244163] Converting datetimes for Contact...\n",
      "[2023-06-30 11:53:54.244163] Converting Birthdate to datetime...\n",
      "[2023-06-30 11:53:54.260034] Converting CreatedDate to datetime...\n",
      "[2023-06-30 11:53:54.283934] Converting LastModifiedDate to datetime...\n",
      "[2023-06-30 11:53:54.299073] Converting SystemModstamp to datetime...\n",
      "[2023-06-30 11:53:54.324074] Converting LastActivityDate to datetime...\n",
      "[2023-06-30 11:53:54.335474] Converting LastCURequestDate to datetime...\n",
      "[2023-06-30 11:53:54.346448] Converting LastCUUpdateDate to datetime...\n",
      "[2023-06-30 11:53:54.359577] Converting LastViewedDate to datetime...\n",
      "[2023-06-30 11:53:54.371235] Converting LastReferencedDate to datetime...\n",
      "[2023-06-30 11:53:54.382230] Converting EmailBouncedDate to datetime...\n",
      "[2023-06-30 11:53:54.394944] Converting DeceasedDate to datetime...\n",
      "[2023-06-30 11:53:54.410739] Converting Date_Promotion_Decision_was_Entered__c to datetime...\n",
      "[2023-06-30 11:53:54.423457] Converting Re_Entry_Date__c to datetime...\n"
     ]
    }
   ],
   "source": [
    "for key in dataFrames.keys():\n",
    "    \n",
    "    lprint(\"Converting datetimes for %s...\" % key)\n",
    "    \n",
    "    for col in dataFrames[key].columns:\n",
    "        if metaData[key][col]['type'] in ['date', 'datetime']:\n",
    "            \n",
    "            lprint(\"Converting %s to datetime...\" % col)\n",
    "            \n",
    "            dataFrames[key][col] = pd.to_datetime(dataFrames[key][col])\n",
    "            \n",
    "    \n",
    "    "
   ]
  },
  {
   "cell_type": "code",
   "execution_count": 13,
   "id": "07870450-78da-4199-968e-fe1b4d1023d2",
   "metadata": {},
   "outputs": [
    {
     "name": "stdout",
     "output_type": "stream",
     "text": [
      "[2023-06-30 11:53:54.476445] Ordered dict found in Account column BillingAddress converting...\n",
      "[2023-06-30 11:53:54.493069] Updating length for Account column BillingAddress to 224...\n",
      "[2023-06-30 11:53:54.505035] Ordered dict found in Account column ShippingAddress converting...\n",
      "[2023-06-30 11:53:54.520969] Updating length for Account column ShippingAddress to 205...\n",
      "[2023-06-30 11:53:54.574850] Ordered dict found in Account column PersonMailingAddress converting...\n",
      "[2023-06-30 11:53:54.614705] Updating length for Account column PersonMailingAddress to 232...\n",
      "[2023-06-30 11:53:54.728292] Ordered dict found in Contact column MailingAddress converting...\n",
      "[2023-06-30 11:53:54.762440] Updating length for Contact column MailingAddress to 232...\n"
     ]
    }
   ],
   "source": [
    "for tbl in dataFrames.keys():\n",
    "    for col in dataFrames[tbl].columns:\n",
    "        \n",
    "        if np.count_nonzero(dataFrames[tbl][col].map(type) == OrderedDict) > 0:\n",
    "            lprint(\"Ordered dict found in %s column %s converting...\" % (tbl, col)) \n",
    "            dataFrames[tbl][col] = dataFrames[tbl][col].astype(str)\n",
    "            \n",
    "            maxLen = dataFrames[tbl][col].str.len().max()\n",
    "            \n",
    "            lprint(\"Updating length for %s column %s to %d...\" % (tbl, col, maxLen)) \n",
    "            \n",
    "            metaData[tbl][col]['length'] = maxLen"
   ]
  },
  {
   "cell_type": "code",
   "execution_count": 14,
   "id": "499adf2e-1cc8-4506-a642-9be75e28f1cf",
   "metadata": {},
   "outputs": [],
   "source": [
    "staticFields = {\n",
    "                 'boolean':sa.Boolean,\n",
    "                 'date':sa.DATE,\n",
    "                 'datetime':sa.DATETIME,\n",
    "                 'double': sa.FLOAT,\n",
    "                 #'email',\n",
    "                 #'id',\n",
    "                 'int':sa.INT,\n",
    "                 #'multipicklist',\n",
    "                 #'picklist',\n",
    "                 #'reference',\n",
    "                 #'string',\n",
    "                 'textarea':sa.TEXT\n",
    "}\n",
    "\n",
    "def getSQLTypes(tbl):\n",
    "    \n",
    "    sqlTypes = {}\n",
    "    \n",
    "    lprint(\"Getting SQLTypes for %s\" % tbl)\n",
    "    \n",
    "    curMeta = metaData[tbl]\n",
    "        \n",
    "    for field in curMeta.keys():\n",
    "        \n",
    "        if curMeta[field]['type'] in staticFields.keys():\n",
    "            sqlTypes[field] = staticFields[curMeta[field]['type']]()\n",
    "            \n",
    "        else:\n",
    "            fieldLen = curMeta[field]['length']\n",
    "            \n",
    "            if fieldLen <= 255:\n",
    "                sqlTypes[field] = sa.NVARCHAR(fieldLen)\n",
    "                \n",
    "            else:\n",
    "                sqlTypes[field] = sa.TEXT()\n",
    "            \n",
    "    return sqlTypes\n",
    "            \n",
    "#etSQLTypes('AcademicTermEnrollment')\n"
   ]
  },
  {
   "cell_type": "code",
   "execution_count": 15,
   "id": "93f6200c-fbf9-4603-8fc2-deb6f8c4d165",
   "metadata": {},
   "outputs": [
    {
     "name": "stdout",
     "output_type": "stream",
     "text": [
      "[2023-06-30 11:53:54.965966] Saving Account to SalesForceEduCloud_Account.csv\n",
      "[2023-06-30 11:53:55.446372] Finished uploading Account!\n",
      "[2023-06-30 11:53:55.446372] Saving Contact to SalesForceEduCloud_Contact.csv\n",
      "[2023-06-30 11:53:55.798198] Finished uploading Contact!\n"
     ]
    }
   ],
   "source": [
    "for tbl in desiredTables:\n",
    "    csvTblName = \"SalesForceEduCloud_%s.csv\" % tbl\n",
    "    lprint(\"Saving %s to %s\" % (tbl, csvTblName))\n",
    "\n",
    "    dataFrames[tbl].to_csv(csvTblName, index=False)\n",
    "\n",
    "    lprint(\"Finished uploading %s!\" % tbl)"
   ]
  },
  {
   "cell_type": "code",
   "execution_count": null,
   "id": "459112a5-1964-455e-b9d3-4a6276183759",
   "metadata": {},
   "outputs": [
    {
     "name": "stdout",
     "output_type": "stream",
     "text": [
      "[2023-06-30 11:54:03.018188] Getting SQLTypes for Account\n",
      "[2023-06-30 11:54:03.019527] Uploading Account to mssql+pyodbc://KippNOLA/SalesForceEduCloud_Account\n"
     ]
    }
   ],
   "source": [
    "with engine.connect() as conn:\n",
    "\n",
    "    for tbl in desiredTables:\n",
    "        \n",
    "        sqlTypes = getSQLTypes(tbl)\n",
    "        \n",
    "        \n",
    "        sqlTblName = \"SalesForceEduCloud_%s\" % tbl\n",
    "        lprint(\"Uploading table %s to %s/%s\" % (tbl, engine.url, sqlTblName))\n",
    "        \n",
    "        dataFrames[tbl].to_sql(sqlTblName, conn, schema='dbo', if_exists='replace', index=False, dtype=sqlTypes)\n",
    "        \n",
    "        lprint(\"Finished uploading %s!\" % tbl)"
   ]
  },
  {
   "cell_type": "code",
   "execution_count": null,
   "id": "a0674795-ed31-455b-ad19-6fdc45ec84b2",
   "metadata": {},
   "outputs": [],
   "source": [
    "lprint(\"=============DONE!===================\")"
   ]
  },
  {
   "cell_type": "code",
   "execution_count": null,
   "id": "2606ed15-29e9-408a-82de-a65539af2a4e",
   "metadata": {},
   "outputs": [],
   "source": [
    "logfile.close()"
   ]
  },
  {
   "cell_type": "code",
   "execution_count": null,
   "id": "ef3d93d5-c6ce-4749-8099-b24ce82da590",
   "metadata": {},
   "outputs": [],
   "source": [
    "print(\"Log file closed\")"
   ]
  },
  {
   "cell_type": "code",
   "execution_count": null,
   "id": "2cc6e577-6ebf-476d-9d10-d3338a687253",
   "metadata": {},
   "outputs": [],
   "source": []
  }
 ],
 "metadata": {
  "kernelspec": {
   "display_name": "Python 3 (ipykernel)",
   "language": "python",
   "name": "python3"
  },
  "language_info": {
   "codemirror_mode": {
    "name": "ipython",
    "version": 3
   },
   "file_extension": ".py",
   "mimetype": "text/x-python",
   "name": "python",
   "nbconvert_exporter": "python",
   "pygments_lexer": "ipython3",
   "version": "3.10.1"
  }
 },
 "nbformat": 4,
 "nbformat_minor": 5
}
