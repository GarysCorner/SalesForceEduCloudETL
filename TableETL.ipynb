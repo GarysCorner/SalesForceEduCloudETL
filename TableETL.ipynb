{
 "cells": [
  {
   "cell_type": "code",
   "execution_count": 21,
   "id": "e773963d-2455-4fe4-bc5d-19b273a34a1b",
   "metadata": {},
   "outputs": [
    {
     "data": {
      "text/plain": [
       "True"
      ]
     },
     "execution_count": 21,
     "metadata": {},
     "output_type": "execute_result"
    }
   ],
   "source": [
    "import pandas as pd\n",
    "import numpy as np\n",
    "import sqlalchemy as sa\n",
    "from datetime import datetime\n",
    "\n",
    "from collections import defaultdict\n",
    "from json import JSONEncoder\n",
    "\n",
    "from simple_salesforce import Salesforce\n",
    "from os import environ\n",
    "from dotenv import load_dotenv\n",
    "load_dotenv()\n",
    "\n"
   ]
  },
  {
   "cell_type": "code",
   "execution_count": null,
   "id": "648729c8-3694-40f6-b6e3-1480e61c9f3c",
   "metadata": {},
   "outputs": [],
   "source": []
  },
  {
   "cell_type": "code",
   "execution_count": 2,
   "id": "d4a95a96-d3ee-4fd1-a7a2-7005c0cc94db",
   "metadata": {},
   "outputs": [
    {
     "name": "stdout",
     "output_type": "stream",
     "text": [
      "[2023-07-12 17:07:30.440996] Started...\n"
     ]
    }
   ],
   "source": [
    "logfile = open(\"TableETL.log\",\"w\")\n",
    "def lprint(val):\n",
    "    outstr = \"[%s] %s\" % (datetime.now(), val)\n",
    "    print(outstr)\n",
    "    logfile.write(outstr)\n",
    "    logfile.write(\"\\n\")\n",
    "    logfile.flush()\n",
    "    \n",
    "lprint(\"Started...\")"
   ]
  },
  {
   "cell_type": "code",
   "execution_count": 3,
   "id": "f4c83570-e9ae-4ce2-9258-0c2bb0ef780b",
   "metadata": {},
   "outputs": [],
   "source": [
    "sfusername = environ.get('sfusername')\n",
    "sfpassword = environ.get('sfpassword')\n",
    "sfsecret = environ.get(\"sfsecret\")\n",
    "sfinstanceurl = environ.get(\"sfinstanceurl\")\n",
    "#connstr = environ.get(\"connstr\")\n",
    "connstr = environ.get(\"KNOS_Datawarehouse\")"
   ]
  },
  {
   "cell_type": "code",
   "execution_count": 4,
   "id": "5dd7a590-da82-4936-ab95-0b4c94b4c2cf",
   "metadata": {},
   "outputs": [
    {
     "name": "stdout",
     "output_type": "stream",
     "text": [
      "[2023-07-12 17:07:30.454959] Creating engine\n"
     ]
    }
   ],
   "source": [
    "lprint(\"Creating engine\")\n",
    "engine = sa.create_engine(connstr, fast_executemany=True)"
   ]
  },
  {
   "cell_type": "code",
   "execution_count": 22,
   "id": "38316999-4360-4d79-ae30-c7a7ca230b4e",
   "metadata": {},
   "outputs": [],
   "source": [
    "desiredTables = [\n",
    "    'School_Program__c',\n",
    "    'ConstituentRole',\n",
    "    'ContactProfile',\n",
    "    'Grade_Level__c',\n",
    "    'Address',\n",
    "    'AcademicTerm',\n",
    "    'AcademicYear',\n",
    "    'Display_School__c',\n",
    "    'ContactContactRelation',\n",
    "    'AccountContactRelation',\n",
    "    'AccountContactRole',\n",
    "    'AcademicTermEnrollment',\n",
    "    'Account',\n",
    "    'Contact'\n",
    "]\n"
   ]
  },
  {
   "cell_type": "code",
   "execution_count": 6,
   "id": "ea24398c-41c7-44b2-94b0-e788406df531",
   "metadata": {},
   "outputs": [],
   "source": [
    "soqlFilters = defaultdict(lambda: \"where IsDeleted = false\", {\n",
    "    'AcademicTermEnrollment':'where Active__c = true and IsDeleted = false'\n",
    "})"
   ]
  },
  {
   "cell_type": "code",
   "execution_count": 7,
   "id": "2ac22aa4-7509-4bf9-bfb2-98a4464074c3",
   "metadata": {},
   "outputs": [
    {
     "name": "stdout",
     "output_type": "stream",
     "text": [
      "[2023-07-12 17:07:30.502099] Creating sessions...\n",
      "[2023-07-12 17:07:31.507475] Session created!\n"
     ]
    }
   ],
   "source": [
    "lprint(\"Creating sessions...\")\n",
    "sf = Salesforce(username=sfusername, password=sfpassword, security_token=sfsecret, instance_url=sfinstanceurl, version='57.0')\n",
    "lprint(\"Session created!\")"
   ]
  },
  {
   "cell_type": "code",
   "execution_count": 8,
   "id": "bb380df4-a9ab-4a38-ade5-18a5d861f0fe",
   "metadata": {},
   "outputs": [
    {
     "name": "stdout",
     "output_type": "stream",
     "text": [
      "[2023-07-12 17:07:31.518033] Getting metadata for Contact\n"
     ]
    }
   ],
   "source": [
    "metaData = {}\n",
    "\n",
    "for tbl in desiredTables:\n",
    "    fieldDescs = {}\n",
    "    \n",
    "    lprint(\"Getting metadata for %s\" % tbl)\n",
    "    \n",
    "    tblDesc = getattr(sf, tbl).describe()\n",
    "    \n",
    "    for field in tblDesc['fields']:\n",
    "        fieldDescs[field['name']] = {\n",
    "                                'type':field['type'],\n",
    "                                'length':field['length']\n",
    "        }\n",
    "        \n",
    "    \n",
    "    metaData[tbl] = fieldDescs\n",
    "    \n"
   ]
  },
  {
   "cell_type": "code",
   "execution_count": 9,
   "id": "f574eff1-f9f8-4064-bcec-136f4415da11",
   "metadata": {},
   "outputs": [
    {
     "name": "stdout",
     "output_type": "stream",
     "text": [
      "[2023-07-12 17:07:32.143248] Querying data for Contact\n",
      "[2023-07-12 17:07:32.144247] Starting query:  select Id, IsDeleted, MasterRecordId, AccountId, IsPersonAccount, LastName, FirstName, Salutation, Name, RecordTypeId, OtherStreet, OtherCity, OtherState, OtherPostalCode, OtherCountry, OtherLatitude, OtherLongitude, OtherGeocodeAccuracy, OtherAddress, MailingStreet, MailingCity, MailingState, MailingPostalCode, MailingCountry, MailingLatitude, MailingLongitude, MailingGeocodeAccuracy, MailingAddress, Phone, Fax, MobilePhone, HomePhone, OtherPhone, AssistantPhone, ReportsToId, Email, Title, Department, AssistantName, LeadSource, Birthdate, Description, OwnerId, CreatedDate, CreatedById, LastModifiedDate, LastModifiedById, SystemModstamp, LastActivityDate, LastCURequestDate, LastCUUpdateDate, LastViewedDate, LastReferencedDate, EmailBouncedReason, EmailBouncedDate, IsEmailBounced, PhotoUrl, Jigsaw, JigsawContactId, IndividualId, DeceasedDate, Pronouns, GenderIdentity, Is_Student_in_Terminal_Grade__c, X18_Digit_Id__c, Active__c, Current_Enrolled_Grade__c, Current_Enrolled_School__c, Currently_Enrolled_Program__c, Date_Promotion_Decision_was_Entered__c, Deceased__c, Do_not_create_Person_Account__c, Ethnicity__c, Expelled__c, Home_Language__c, Legacy_Id__c, New_Match__c, No_Show__c, OneApp_ID__c, Promotion_Decision__c, Race__c, Type__c, Was_Processed_Through_Discharge_Batch__c, Birthdate_Text__c, Grade_Level__c, Has_Twin__c, Local_ID__c, Re_Entry_Date__c, Re_Entry_Status__c, School_Expelled_From__c, Total_Enrollments_This_Term__c, State_Abbreviations__c, X18_Digit_Account_ID__c from Contact where IsDeleted = false\n",
      "[2023-07-12 17:07:40.848782] Finished Contact\n"
     ]
    }
   ],
   "source": [
    "outputData = {}\n",
    "\n",
    "for tbl in desiredTables:\n",
    "    lprint(\"Querying data for %s\" % tbl)\n",
    "    \n",
    "    feilds = \", \".join(metaData[tbl].keys())\n",
    "    \n",
    "    soql = \"select %s from %s %s\" % (feilds, tbl, soqlFilters[tbl])\n",
    "    \n",
    "    \n",
    "    lprint(\"Starting query:  %s\" % soql)\n",
    "    resp = sf.query_all(soql)\n",
    "    \n",
    "    outputData[tbl] = resp\n",
    "    \n",
    "    lprint(\"Finished %s\" % tbl)\n",
    "    "
   ]
  },
  {
   "cell_type": "code",
   "execution_count": 10,
   "id": "5d7c7d0d-a8df-4dac-a889-68d928c51364",
   "metadata": {},
   "outputs": [
    {
     "name": "stdout",
     "output_type": "stream",
     "text": [
      "[2023-07-12 17:07:40.854252] Contact totalRecords 7408\n"
     ]
    }
   ],
   "source": [
    "for tbl in outputData.keys():\n",
    "    lprint(\"%s totalRecords %d\" % (tbl, outputData[tbl]['totalSize']))"
   ]
  },
  {
   "cell_type": "code",
   "execution_count": 11,
   "id": "fe12092c-1883-4e1e-b7f6-f24a6779da0b",
   "metadata": {},
   "outputs": [
    {
     "name": "stdout",
     "output_type": "stream",
     "text": [
      "[2023-07-12 17:07:40.863027] Turning output data into dataframes\n",
      "[2023-07-12 17:07:41.184899] Dropping attributes from Contact\n",
      "[2023-07-12 17:07:41.201858] Contact shape (7408, 93)\n"
     ]
    }
   ],
   "source": [
    "lprint(\"Turning output data into dataframes\")\n",
    "dataFrames = {tbl:pd.DataFrame.from_dict(outputData[tbl]['records']) for tbl in desiredTables}\n",
    "\n",
    "for key in dataFrames.keys():\n",
    "    \n",
    "    \n",
    "    if 'attributes' in dataFrames[key].columns:\n",
    "        \n",
    "        lprint(\"Dropping attributes from %s\" % tbl)\n",
    "        dataFrames[key].drop(columns=['attributes'], inplace=True)\n",
    "    \n",
    "    lprint(\"%s shape %s\" % (key, dataFrames[key].shape))"
   ]
  },
  {
   "cell_type": "code",
   "execution_count": 12,
   "id": "6ea6e635-a95c-4e3a-af4a-8f296607d79f",
   "metadata": {},
   "outputs": [
    {
     "name": "stdout",
     "output_type": "stream",
     "text": [
      "[2023-07-12 17:07:41.211864] Converting datetimes for Contact...\n",
      "[2023-07-12 17:07:41.211864] Converting Birthdate to datetime...\n",
      "[2023-07-12 17:07:41.239764] Converting CreatedDate to datetime...\n",
      "[2023-07-12 17:07:41.267996] Converting LastModifiedDate to datetime...\n",
      "[2023-07-12 17:07:41.295591] Converting SystemModstamp to datetime...\n",
      "[2023-07-12 17:07:41.324825] Converting LastActivityDate to datetime...\n",
      "[2023-07-12 17:07:41.337791] Converting LastCURequestDate to datetime...\n",
      "[2023-07-12 17:07:41.350864] Converting LastCUUpdateDate to datetime...\n",
      "[2023-07-12 17:07:41.363419] Converting LastViewedDate to datetime...\n",
      "[2023-07-12 17:07:41.377336] Converting LastReferencedDate to datetime...\n",
      "[2023-07-12 17:07:41.391433] Converting EmailBouncedDate to datetime...\n",
      "[2023-07-12 17:07:41.404353] Converting DeceasedDate to datetime...\n",
      "[2023-07-12 17:07:41.417354] Converting Date_Promotion_Decision_was_Entered__c to datetime...\n",
      "[2023-07-12 17:07:41.434443] Converting Re_Entry_Date__c to datetime...\n"
     ]
    }
   ],
   "source": [
    "for key in dataFrames.keys():\n",
    "    \n",
    "    lprint(\"Converting datetimes for %s...\" % key)\n",
    "    \n",
    "    for col in dataFrames[key].columns:\n",
    "        if metaData[key][col]['type'] in ['date', 'datetime']:\n",
    "            \n",
    "            lprint(\"Converting %s to datetime...\" % col)\n",
    "            \n",
    "            dataFrames[key][col] = pd.to_datetime(dataFrames[key][col])\n",
    "            \n",
    "    \n",
    "    "
   ]
  },
  {
   "cell_type": "code",
   "execution_count": 13,
   "id": "7c015ba3-1be9-457e-9f5e-e24ed5ef5894",
   "metadata": {},
   "outputs": [],
   "source": [
    "jcoder = JSONEncoder()"
   ]
  },
  {
   "cell_type": "code",
   "execution_count": 14,
   "id": "07870450-78da-4199-968e-fe1b4d1023d2",
   "metadata": {},
   "outputs": [
    {
     "name": "stdout",
     "output_type": "stream",
     "text": [
      "[2023-07-12 17:07:41.559169] Ordered dict found in Contact column MailingAddress converting...\n",
      "[2023-07-12 17:07:41.611021] Updating type for Contact column MailingAddress to JSON...\n",
      "[2023-07-12 17:07:41.617016] Setting fieldlen to 203 for MailingAddress\n"
     ]
    }
   ],
   "source": [
    "for tbl in dataFrames.keys():\n",
    "    for col in dataFrames[tbl].columns:\n",
    "        \n",
    "        if np.count_nonzero(dataFrames[tbl][col].map(lambda a: isinstance(a, dict ) or isinstance(a, list ))) > 0:\n",
    "            lprint(\"Ordered dict found in %s column %s converting...\" % (tbl, col)) \n",
    "            \n",
    "            dataFrames[tbl][col] = dataFrames[tbl][col].map(jcoder.encode)\n",
    "            \n",
    "            lprint(\"Updating type for %s column %s to JSON...\" % (tbl, col)) \n",
    "            metaData[tbl][col]['type'] = 'JSON'\n",
    "            \n",
    "            fieldLen = int(dataFrames[tbl][col].str.len().max())\n",
    "            \n",
    "            lprint(\"Setting fieldlen to %d for %s\" % (fieldLen, col))            \n",
    "            metaData[tbl][col]['length'] = int(dataFrames[tbl][col].str.len().max())\n",
    "            \n",
    "            \n",
    "            "
   ]
  },
  {
   "cell_type": "code",
   "execution_count": 15,
   "id": "499adf2e-1cc8-4506-a642-9be75e28f1cf",
   "metadata": {},
   "outputs": [],
   "source": [
    "staticFields = {\n",
    "                 'boolean':sa.Boolean,\n",
    "                 'date':sa.DATE,\n",
    "                 'datetime':sa.DATETIME,\n",
    "                 'double': sa.FLOAT,\n",
    "                 #'email',\n",
    "                 #'id',\n",
    "                 'int':sa.INT,\n",
    "                 #'multipicklist',\n",
    "                 #'picklist',\n",
    "                 #'reference',\n",
    "                 #'string',\n",
    "                 'textarea':sa.TEXT,\n",
    "                 #'JSON':sa.JSON\n",
    "}\n",
    "\n",
    "#this is a mess\n",
    "def getSQLTypes(tbl):\n",
    "    \n",
    "    sqlTypes = {}\n",
    "    \n",
    "    lprint(\"Getting SQLTypes for %s\" % tbl)\n",
    "    \n",
    "    curMeta = metaData[tbl]\n",
    "        \n",
    "    for field in curMeta.keys():\n",
    "        \n",
    "        if curMeta[field]['type'] in staticFields.keys():\n",
    "            sqlTypes[field] = staticFields[curMeta[field]['type']]()\n",
    "        \n",
    "        \n",
    "        else:\n",
    "            fieldLen = curMeta[field]['length']\n",
    "            \n",
    "            if fieldLen <= 255:\n",
    "                sqlTypes[field] = sa.NVARCHAR(fieldLen)\n",
    "            \n",
    "            #this is a fix they set some of the custom field max values to weird stuff\n",
    "            elif np.count_nonzero(~pd.isna(dataFrames[tbl][field])) > 0 \\\n",
    "                            and ( fieldLen := int(dataFrames[tbl][field].str.len().max())) <= 255:\n",
    "                sqlTypes[field] = sa.NVARCHAR(fieldLen)                \n",
    "                \n",
    "            else:\n",
    "                sqlTypes[field] = sa.TEXT()\n",
    "            \n",
    "    return sqlTypes\n",
    "            \n",
    "#getSQLTypes('AcademicTermEnrollment')\n"
   ]
  },
  {
   "cell_type": "code",
   "execution_count": 16,
   "id": "93f6200c-fbf9-4603-8fc2-deb6f8c4d165",
   "metadata": {},
   "outputs": [
    {
     "name": "stdout",
     "output_type": "stream",
     "text": [
      "[2023-07-12 17:07:41.864901] Saving Contact to SalesForceEduCloud_Contact.csv\n",
      "[2023-07-12 17:07:42.383799] Finished saving Contact!\n"
     ]
    }
   ],
   "source": [
    "for tbl in desiredTables:\n",
    "    csvTblName = \"SalesForceEduCloud_%s.csv\" % tbl\n",
    "    lprint(\"Saving %s to %s\" % (tbl, csvTblName))\n",
    "\n",
    "    dataFrames[tbl].to_csv(csvTblName, index=False)\n",
    "\n",
    "    lprint(\"Finished saving %s!\" % tbl)"
   ]
  },
  {
   "cell_type": "code",
   "execution_count": 20,
   "id": "459112a5-1964-455e-b9d3-4a6276183759",
   "metadata": {},
   "outputs": [
    {
     "name": "stdout",
     "output_type": "stream",
     "text": [
      "[2023-07-12 17:08:57.671670] Getting SQLTypes for Contact\n",
      "[2023-07-12 17:08:57.688897] Uploading table Contact to testSalesForceEduCloud_Contact\n",
      "[2023-07-12 17:09:16.601328] Finished uploading Contact!\n"
     ]
    }
   ],
   "source": [
    "with engine.connect() as conn:\n",
    "\n",
    "    for tbl in desiredTables:\n",
    "        \n",
    "        if dataFrames[tbl].shape[0] == 0:\n",
    "            lprint(\"Skipping %s no data!\" % tbl)\n",
    "            continue\n",
    "        \n",
    "        sqlTypes = getSQLTypes(tbl)\n",
    "        \n",
    "        \n",
    "        sqlTblName = \"SalesForceEduCloud_%s\" % tbl\n",
    "        lprint(\"Uploading table %s to %s\" % (tbl,  sqlTblName))\n",
    "        \n",
    "        dataFrames[tbl].to_sql(sqlTblName, conn, schema='etl', if_exists='replace', index=False, dtype=sqlTypes, chunksize=1)\n",
    "        \n",
    "        lprint(\"Finished uploading %s!\" % tbl)"
   ]
  },
  {
   "cell_type": "code",
   "execution_count": null,
   "id": "a0674795-ed31-455b-ad19-6fdc45ec84b2",
   "metadata": {},
   "outputs": [],
   "source": [
    "lprint(\"=============DONE!===================\")"
   ]
  },
  {
   "cell_type": "code",
   "execution_count": null,
   "id": "2606ed15-29e9-408a-82de-a65539af2a4e",
   "metadata": {},
   "outputs": [],
   "source": [
    "logfile.close()"
   ]
  },
  {
   "cell_type": "code",
   "execution_count": null,
   "id": "ef3d93d5-c6ce-4749-8099-b24ce82da590",
   "metadata": {},
   "outputs": [],
   "source": [
    "print(\"Log file closed\")"
   ]
  },
  {
   "cell_type": "code",
   "execution_count": null,
   "id": "bd05b391-0146-4bb5-826f-5e4c7c98046f",
   "metadata": {},
   "outputs": [],
   "source": []
  }
 ],
 "metadata": {
  "kernelspec": {
   "display_name": "Python 3 (ipykernel)",
   "language": "python",
   "name": "python3"
  },
  "language_info": {
   "codemirror_mode": {
    "name": "ipython",
    "version": 3
   },
   "file_extension": ".py",
   "mimetype": "text/x-python",
   "name": "python",
   "nbconvert_exporter": "python",
   "pygments_lexer": "ipython3",
   "version": "3.10.1"
  }
 },
 "nbformat": 4,
 "nbformat_minor": 5
}
