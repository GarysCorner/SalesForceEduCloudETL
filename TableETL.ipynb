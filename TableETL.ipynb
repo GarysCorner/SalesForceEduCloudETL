{
 "cells": [
  {
   "cell_type": "code",
   "execution_count": 1,
   "id": "e773963d-2455-4fe4-bc5d-19b273a34a1b",
   "metadata": {},
   "outputs": [
    {
     "data": {
      "text/plain": [
       "True"
      ]
     },
     "execution_count": 1,
     "metadata": {},
     "output_type": "execute_result"
    }
   ],
   "source": [
    "import pandas as pd\n",
    "import numpy as np\n",
    "import sqlalchemy as sa\n",
    "from datetime import datetime\n",
    "\n",
    "from collections import defaultdict, OrderedDict\n",
    "\n",
    "from simple_salesforce import Salesforce\n",
    "from os import environ\n",
    "from dotenv import load_dotenv\n",
    "load_dotenv()"
   ]
  },
  {
   "cell_type": "code",
   "execution_count": 2,
   "id": "d4a95a96-d3ee-4fd1-a7a2-7005c0cc94db",
   "metadata": {},
   "outputs": [
    {
     "name": "stdout",
     "output_type": "stream",
     "text": [
      "[2023-07-03 17:15:33.375954] Started...\n"
     ]
    }
   ],
   "source": [
    "logfile = open(\"TableETL.log\",\"w\")\n",
    "def lprint(val):\n",
    "    outstr = \"[%s] %s\" % (datetime.now(), val)\n",
    "    print(outstr)\n",
    "    logfile.write(outstr)\n",
    "    logfile.write(\"\\n\")\n",
    "    logfile.flush()\n",
    "    \n",
    "lprint(\"Started...\")"
   ]
  },
  {
   "cell_type": "code",
   "execution_count": 3,
   "id": "f4c83570-e9ae-4ce2-9258-0c2bb0ef780b",
   "metadata": {},
   "outputs": [],
   "source": [
    "sfusername = environ.get('sfusername')\n",
    "sfpassword = environ.get('sfpassword')\n",
    "sfsecret = environ.get(\"sfsecret\")\n",
    "sfinstanceurl = environ.get(\"sfinstanceurl\")\n",
    "connstr = environ.get(\"connstr\")"
   ]
  },
  {
   "cell_type": "code",
   "execution_count": 4,
   "id": "5dd7a590-da82-4936-ab95-0b4c94b4c2cf",
   "metadata": {},
   "outputs": [
    {
     "name": "stdout",
     "output_type": "stream",
     "text": [
      "[2023-07-03 17:15:33.404181] Creating engine for mssql+pyodbc://KippNOLA\n"
     ]
    }
   ],
   "source": [
    "lprint(\"Creating engine for %s\" % connstr)\n",
    "engine = sa.create_engine(connstr)"
   ]
  },
  {
   "cell_type": "code",
   "execution_count": 5,
   "id": "38316999-4360-4d79-ae30-c7a7ca230b4e",
   "metadata": {},
   "outputs": [],
   "source": [
    "desiredTables = [\n",
    "    'ContactContactRelation',\n",
    "    'AccountContactRelation',\n",
    "    'AcademicTermEnrollment',\n",
    "    'Account',\n",
    "    'Contact'\n",
    "]"
   ]
  },
  {
   "cell_type": "code",
   "execution_count": 6,
   "id": "ea24398c-41c7-44b2-94b0-e788406df531",
   "metadata": {},
   "outputs": [],
   "source": [
    "soqlFilters = defaultdict(lambda: \"where IsDeleted = false\", {\n",
    "    'AcademicTermEnrollment':'where Active__c = true and IsDeleted = false'\n",
    "})"
   ]
  },
  {
   "cell_type": "code",
   "execution_count": 7,
   "id": "2ac22aa4-7509-4bf9-bfb2-98a4464074c3",
   "metadata": {},
   "outputs": [
    {
     "name": "stdout",
     "output_type": "stream",
     "text": [
      "[2023-07-03 17:15:33.480092] Creating sessions...\n",
      "[2023-07-03 17:15:34.033528] Session created!\n"
     ]
    }
   ],
   "source": [
    "lprint(\"Creating sessions...\")\n",
    "sf = Salesforce(username=sfusername, password=sfpassword, security_token=sfsecret, instance_url=sfinstanceurl, version='57.0')\n",
    "lprint(\"Session created!\")"
   ]
  },
  {
   "cell_type": "code",
   "execution_count": 8,
   "id": "bb380df4-a9ab-4a38-ade5-18a5d861f0fe",
   "metadata": {},
   "outputs": [
    {
     "name": "stdout",
     "output_type": "stream",
     "text": [
      "[2023-07-03 17:15:34.040537] Getting metadata for ContactContactRelation\n",
      "[2023-07-03 17:15:34.559842] Getting metadata for AccountContactRelation\n"
     ]
    }
   ],
   "source": [
    "metaData = {}\n",
    "\n",
    "for tbl in desiredTables:\n",
    "    fieldDescs = {}\n",
    "    \n",
    "    lprint(\"Getting metadata for %s\" % tbl)\n",
    "    \n",
    "    tblDesc = getattr(sf, tbl).describe()\n",
    "    \n",
    "    for field in tblDesc['fields']:\n",
    "        fieldDescs[field['name']] = {\n",
    "                                'type':field['type'],\n",
    "                                'length':field['length']\n",
    "        }\n",
    "        \n",
    "    \n",
    "    metaData[tbl] = fieldDescs\n",
    "    \n"
   ]
  },
  {
   "cell_type": "code",
   "execution_count": 9,
   "id": "f574eff1-f9f8-4064-bcec-136f4415da11",
   "metadata": {},
   "outputs": [
    {
     "name": "stdout",
     "output_type": "stream",
     "text": [
      "[2023-07-03 17:15:34.717371] Querying data for ContactContactRelation\n",
      "[2023-07-03 17:15:34.717371] Starting query:  select Id, OwnerId, IsDeleted, Name, CreatedDate, CreatedById, LastModifiedDate, LastModifiedById, SystemModstamp, LastViewedDate, LastReferencedDate, ContactId, RelatedContactId, RelatedInverseRecordId, StartDate, EndDate, IsActive, PartyRoleRelationId, HierarchyType, Include_Role_in_Sharing__c, Related_Contact_School_Id__c, Related_Person_Name__c, Related_Person_Role__c, Legacy_Id_A__c, Legacy_Id_B__c, Person__c, Related_Person__c, Updated_By_Reciprocal__c, Related_Contact_School__c, Related_Person_Grade_Level__c, Is_Twin__c from ContactContactRelation where IsDeleted = false\n",
      "[2023-07-03 17:15:34.848835] Finished ContactContactRelation\n",
      "[2023-07-03 17:15:34.848835] Querying data for AccountContactRelation\n",
      "[2023-07-03 17:15:34.848835] Starting query:  select Id, AccountId, ContactId, Roles, IsDirect, IsPrimaryMember, IsActive, StartDate, EndDate, IsDeleted, IsPrimaryGroup, IsIncludedInGroup, DataRollupCategories, CreatedDate, CreatedById, LastModifiedDate, LastModifiedById, SystemModstamp from AccountContactRelation where IsDeleted = false\n",
      "[2023-07-03 17:15:39.790940] Finished AccountContactRelation\n"
     ]
    }
   ],
   "source": [
    "outputData = {}\n",
    "\n",
    "for tbl in desiredTables:\n",
    "    lprint(\"Querying data for %s\" % tbl)\n",
    "    \n",
    "    feilds = \", \".join(metaData[tbl].keys())\n",
    "    \n",
    "    soql = \"select %s from %s %s\" % (feilds, tbl, soqlFilters[tbl])\n",
    "    \n",
    "    \n",
    "    lprint(\"Starting query:  %s\" % soql)\n",
    "    resp = sf.query_all(soql)\n",
    "    \n",
    "    outputData[tbl] = resp\n",
    "    \n",
    "    lprint(\"Finished %s\" % tbl)\n",
    "    "
   ]
  },
  {
   "cell_type": "code",
   "execution_count": 10,
   "id": "5d7c7d0d-a8df-4dac-a889-68d928c51364",
   "metadata": {},
   "outputs": [
    {
     "name": "stdout",
     "output_type": "stream",
     "text": [
      "[2023-07-03 17:15:39.807397] ContactContactRelation totalRecords 0\n",
      "[2023-07-03 17:15:39.807397] AccountContactRelation totalRecords 0\n"
     ]
    }
   ],
   "source": [
    "for tbl in outputData.keys():\n",
    "    lprint(\"%s totalRecords %d\" % (tbl, outputData[tbl]['totalSize']))"
   ]
  },
  {
   "cell_type": "code",
   "execution_count": 11,
   "id": "fe12092c-1883-4e1e-b7f6-f24a6779da0b",
   "metadata": {},
   "outputs": [
    {
     "name": "stdout",
     "output_type": "stream",
     "text": [
      "[2023-07-03 17:15:39.817317] Turning output data into dataframes\n",
      "[2023-07-03 17:15:39.820935] ContactContactRelation shape (0, 0)\n",
      "[2023-07-03 17:15:39.821158] AccountContactRelation shape (0, 0)\n"
     ]
    }
   ],
   "source": [
    "lprint(\"Turning output data into dataframes\")\n",
    "dataFrames = {tbl:pd.DataFrame.from_dict(outputData[tbl]['records']) for tbl in desiredTables}\n",
    "\n",
    "for key in dataFrames.keys():\n",
    "    \n",
    "    \n",
    "    if 'attributes' in dataFrames[key].columns:\n",
    "        \n",
    "        lprint(\"Dropping attributes from %s\" % tbl)\n",
    "        dataFrames[key].drop(columns=['attributes'], inplace=True)\n",
    "    \n",
    "    lprint(\"%s shape %s\" % (key, dataFrames[key].shape))"
   ]
  },
  {
   "cell_type": "code",
   "execution_count": 12,
   "id": "6ea6e635-a95c-4e3a-af4a-8f296607d79f",
   "metadata": {},
   "outputs": [
    {
     "name": "stdout",
     "output_type": "stream",
     "text": [
      "[2023-07-03 17:15:39.832726] Converting datetimes for ContactContactRelation...\n",
      "[2023-07-03 17:15:39.832726] Converting datetimes for AccountContactRelation...\n"
     ]
    }
   ],
   "source": [
    "for key in dataFrames.keys():\n",
    "    \n",
    "    lprint(\"Converting datetimes for %s...\" % key)\n",
    "    \n",
    "    for col in dataFrames[key].columns:\n",
    "        if metaData[key][col]['type'] in ['date', 'datetime']:\n",
    "            \n",
    "            lprint(\"Converting %s to datetime...\" % col)\n",
    "            \n",
    "            dataFrames[key][col] = pd.to_datetime(dataFrames[key][col])\n",
    "            \n",
    "    \n",
    "    "
   ]
  },
  {
   "cell_type": "code",
   "execution_count": 13,
   "id": "07870450-78da-4199-968e-fe1b4d1023d2",
   "metadata": {},
   "outputs": [],
   "source": [
    "for tbl in dataFrames.keys():\n",
    "    for col in dataFrames[tbl].columns:\n",
    "        \n",
    "        if np.count_nonzero(dataFrames[tbl][col].map(type) == OrderedDict) > 0:\n",
    "            lprint(\"Ordered dict found in %s column %s converting...\" % (tbl, col)) \n",
    "            dataFrames[tbl][col] = dataFrames[tbl][col].astype(str)\n",
    "            \n",
    "            maxLen = dataFrames[tbl][col].str.len().max()\n",
    "            \n",
    "            lprint(\"Updating length for %s column %s to %d...\" % (tbl, col, maxLen)) \n",
    "            \n",
    "            metaData[tbl][col]['length'] = maxLen"
   ]
  },
  {
   "cell_type": "code",
   "execution_count": 14,
   "id": "499adf2e-1cc8-4506-a642-9be75e28f1cf",
   "metadata": {},
   "outputs": [],
   "source": [
    "staticFields = {\n",
    "                 'boolean':sa.Boolean,\n",
    "                 'date':sa.DATE,\n",
    "                 'datetime':sa.DATETIME,\n",
    "                 'double': sa.FLOAT,\n",
    "                 #'email',\n",
    "                 #'id',\n",
    "                 'int':sa.INT,\n",
    "                 #'multipicklist',\n",
    "                 #'picklist',\n",
    "                 #'reference',\n",
    "                 #'string',\n",
    "                 'textarea':sa.TEXT\n",
    "}\n",
    "\n",
    "def getSQLTypes(tbl):\n",
    "    \n",
    "    sqlTypes = {}\n",
    "    \n",
    "    lprint(\"Getting SQLTypes for %s\" % tbl)\n",
    "    \n",
    "    curMeta = metaData[tbl]\n",
    "        \n",
    "    for field in curMeta.keys():\n",
    "        \n",
    "        if curMeta[field]['type'] in staticFields.keys():\n",
    "            sqlTypes[field] = staticFields[curMeta[field]['type']]()\n",
    "            \n",
    "        else:\n",
    "            fieldLen = curMeta[field]['length']\n",
    "            \n",
    "            if fieldLen <= 255:\n",
    "                sqlTypes[field] = sa.NVARCHAR(fieldLen)\n",
    "            \n",
    "            #this is a fix they set some of the custom field max values to weird stuff\n",
    "            elif np.count_nonzero(~pd.isna(dataFrames[tbl][field])) > 0 \\\n",
    "                            and ( fieldLen := int(dataFrames[tbl][field].str.len().max())) <= 255:\n",
    "                sqlTypes[field] = sa.NVARCHAR(fieldLen)                \n",
    "                \n",
    "            else:\n",
    "                sqlTypes[field] = sa.TEXT()\n",
    "            \n",
    "    return sqlTypes\n",
    "            \n",
    "#getSQLTypes('AcademicTermEnrollment')\n"
   ]
  },
  {
   "cell_type": "code",
   "execution_count": 15,
   "id": "93f6200c-fbf9-4603-8fc2-deb6f8c4d165",
   "metadata": {},
   "outputs": [
    {
     "name": "stdout",
     "output_type": "stream",
     "text": [
      "[2023-07-03 17:15:39.861780] Saving ContactContactRelation to SalesForceEduCloud_ContactContactRelation.csv\n",
      "[2023-07-03 17:15:39.868907] Finished uploading ContactContactRelation!\n",
      "[2023-07-03 17:15:39.869904] Saving AccountContactRelation to SalesForceEduCloud_AccountContactRelation.csv\n",
      "[2023-07-03 17:15:39.870963] Finished uploading AccountContactRelation!\n"
     ]
    }
   ],
   "source": [
    "for tbl in desiredTables:\n",
    "    csvTblName = \"SalesForceEduCloud_%s.csv\" % tbl\n",
    "    lprint(\"Saving %s to %s\" % (tbl, csvTblName))\n",
    "\n",
    "    dataFrames[tbl].to_csv(csvTblName, index=False)\n",
    "\n",
    "    lprint(\"Finished uploading %s!\" % tbl)"
   ]
  },
  {
   "cell_type": "code",
   "execution_count": 20,
   "id": "459112a5-1964-455e-b9d3-4a6276183759",
   "metadata": {},
   "outputs": [
    {
     "name": "stdout",
     "output_type": "stream",
     "text": [
      "[2023-07-03 17:16:23.994081] Skipping ContactContactRelation no data!\n"
     ]
    },
    {
     "ename": "ValueError",
     "evalue": "I/O operation on closed file.",
     "output_type": "error",
     "traceback": [
      "\u001b[1;31m---------------------------------------------------------------------------\u001b[0m",
      "\u001b[1;31mValueError\u001b[0m                                Traceback (most recent call last)",
      "\u001b[1;32m~\\AppData\\Local\\Temp/ipykernel_7184/2309357322.py\u001b[0m in \u001b[0;36m<module>\u001b[1;34m\u001b[0m\n\u001b[0;32m      4\u001b[0m \u001b[1;33m\u001b[0m\u001b[0m\n\u001b[0;32m      5\u001b[0m         \u001b[1;32mif\u001b[0m \u001b[0mdataFrames\u001b[0m\u001b[1;33m[\u001b[0m\u001b[0mtbl\u001b[0m\u001b[1;33m]\u001b[0m\u001b[1;33m.\u001b[0m\u001b[0mshape\u001b[0m\u001b[1;33m[\u001b[0m\u001b[1;36m0\u001b[0m\u001b[1;33m]\u001b[0m \u001b[1;33m==\u001b[0m \u001b[1;36m0\u001b[0m\u001b[1;33m:\u001b[0m\u001b[1;33m\u001b[0m\u001b[1;33m\u001b[0m\u001b[0m\n\u001b[1;32m----> 6\u001b[1;33m             \u001b[0mlprint\u001b[0m\u001b[1;33m(\u001b[0m\u001b[1;34m\"Skipping %s no data!\"\u001b[0m \u001b[1;33m%\u001b[0m \u001b[0mtbl\u001b[0m\u001b[1;33m)\u001b[0m\u001b[1;33m\u001b[0m\u001b[1;33m\u001b[0m\u001b[0m\n\u001b[0m\u001b[0;32m      7\u001b[0m             \u001b[1;32mcontinue\u001b[0m\u001b[1;33m\u001b[0m\u001b[1;33m\u001b[0m\u001b[0m\n\u001b[0;32m      8\u001b[0m \u001b[1;33m\u001b[0m\u001b[0m\n",
      "\u001b[1;32m~\\AppData\\Local\\Temp/ipykernel_7184/134604347.py\u001b[0m in \u001b[0;36mlprint\u001b[1;34m(val)\u001b[0m\n\u001b[0;32m      3\u001b[0m     \u001b[0moutstr\u001b[0m \u001b[1;33m=\u001b[0m \u001b[1;34m\"[%s] %s\"\u001b[0m \u001b[1;33m%\u001b[0m \u001b[1;33m(\u001b[0m\u001b[0mdatetime\u001b[0m\u001b[1;33m.\u001b[0m\u001b[0mnow\u001b[0m\u001b[1;33m(\u001b[0m\u001b[1;33m)\u001b[0m\u001b[1;33m,\u001b[0m \u001b[0mval\u001b[0m\u001b[1;33m)\u001b[0m\u001b[1;33m\u001b[0m\u001b[1;33m\u001b[0m\u001b[0m\n\u001b[0;32m      4\u001b[0m     \u001b[0mprint\u001b[0m\u001b[1;33m(\u001b[0m\u001b[0moutstr\u001b[0m\u001b[1;33m)\u001b[0m\u001b[1;33m\u001b[0m\u001b[1;33m\u001b[0m\u001b[0m\n\u001b[1;32m----> 5\u001b[1;33m     \u001b[0mlogfile\u001b[0m\u001b[1;33m.\u001b[0m\u001b[0mwrite\u001b[0m\u001b[1;33m(\u001b[0m\u001b[0moutstr\u001b[0m\u001b[1;33m)\u001b[0m\u001b[1;33m\u001b[0m\u001b[1;33m\u001b[0m\u001b[0m\n\u001b[0m\u001b[0;32m      6\u001b[0m     \u001b[0mlogfile\u001b[0m\u001b[1;33m.\u001b[0m\u001b[0mwrite\u001b[0m\u001b[1;33m(\u001b[0m\u001b[1;34m\"\\n\"\u001b[0m\u001b[1;33m)\u001b[0m\u001b[1;33m\u001b[0m\u001b[1;33m\u001b[0m\u001b[0m\n\u001b[0;32m      7\u001b[0m     \u001b[0mlogfile\u001b[0m\u001b[1;33m.\u001b[0m\u001b[0mflush\u001b[0m\u001b[1;33m(\u001b[0m\u001b[1;33m)\u001b[0m\u001b[1;33m\u001b[0m\u001b[1;33m\u001b[0m\u001b[0m\n",
      "\u001b[1;31mValueError\u001b[0m: I/O operation on closed file."
     ]
    }
   ],
   "source": [
    "with engine.connect() as conn:\n",
    "\n",
    "    for tbl in desiredTables:\n",
    "        \n",
    "        if dataFrames[tbl].shape[0] == 0:\n",
    "            lprint(\"Skipping %s no data!\" % tbl)\n",
    "            continue\n",
    "        \n",
    "        sqlTypes = getSQLTypes(tbl)\n",
    "        \n",
    "        \n",
    "        sqlTblName = \"SalesForceEduCloud_%s\" % tbl\n",
    "        lprint(\"Uploading table %s to %s/%s\" % (tbl, engine.url, sqlTblName))\n",
    "        \n",
    "        dataFrames[tbl].to_sql(sqlTblName, conn, schema='dbo', if_exists='replace', index=False, dtype=sqlTypes)\n",
    "        \n",
    "        lprint(\"Finished uploading %s!\" % tbl)"
   ]
  },
  {
   "cell_type": "code",
   "execution_count": 17,
   "id": "a0674795-ed31-455b-ad19-6fdc45ec84b2",
   "metadata": {},
   "outputs": [
    {
     "name": "stdout",
     "output_type": "stream",
     "text": [
      "[2023-07-03 17:15:45.718545] =============DONE!===================\n"
     ]
    }
   ],
   "source": [
    "lprint(\"=============DONE!===================\")"
   ]
  },
  {
   "cell_type": "code",
   "execution_count": 18,
   "id": "2606ed15-29e9-408a-82de-a65539af2a4e",
   "metadata": {},
   "outputs": [],
   "source": [
    "logfile.close()"
   ]
  },
  {
   "cell_type": "code",
   "execution_count": 19,
   "id": "ef3d93d5-c6ce-4749-8099-b24ce82da590",
   "metadata": {},
   "outputs": [
    {
     "name": "stdout",
     "output_type": "stream",
     "text": [
      "Log file closed\n"
     ]
    }
   ],
   "source": [
    "print(\"Log file closed\")"
   ]
  },
  {
   "cell_type": "code",
   "execution_count": null,
   "id": "bd05b391-0146-4bb5-826f-5e4c7c98046f",
   "metadata": {},
   "outputs": [],
   "source": []
  }
 ],
 "metadata": {
  "kernelspec": {
   "display_name": "Python 3 (ipykernel)",
   "language": "python",
   "name": "python3"
  },
  "language_info": {
   "codemirror_mode": {
    "name": "ipython",
    "version": 3
   },
   "file_extension": ".py",
   "mimetype": "text/x-python",
   "name": "python",
   "nbconvert_exporter": "python",
   "pygments_lexer": "ipython3",
   "version": "3.10.1"
  }
 },
 "nbformat": 4,
 "nbformat_minor": 5
}
