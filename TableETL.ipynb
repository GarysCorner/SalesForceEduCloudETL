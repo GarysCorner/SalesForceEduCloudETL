{
 "cells": [
  {
   "cell_type": "code",
   "execution_count": 1,
   "id": "e773963d-2455-4fe4-bc5d-19b273a34a1b",
   "metadata": {},
   "outputs": [
    {
     "data": {
      "text/plain": [
       "True"
      ]
     },
     "execution_count": 1,
     "metadata": {},
     "output_type": "execute_result"
    }
   ],
   "source": [
    "import pandas as pd\n",
    "import numpy as np\n",
    "import sqlalchemy as sa\n",
    "from datetime import datetime\n",
    "\n",
    "from collections import defaultdict, OrderedDict\n",
    "\n",
    "from simple_salesforce import Salesforce\n",
    "from os import environ\n",
    "from dotenv import load_dotenv\n",
    "load_dotenv()"
   ]
  },
  {
   "cell_type": "code",
   "execution_count": 2,
   "id": "d4a95a96-d3ee-4fd1-a7a2-7005c0cc94db",
   "metadata": {},
   "outputs": [
    {
     "name": "stdout",
     "output_type": "stream",
     "text": [
      "[2023-07-05 09:55:14.533178] Started...\n"
     ]
    }
   ],
   "source": [
    "logfile = open(\"TableETL.log\",\"w\")\n",
    "def lprint(val):\n",
    "    outstr = \"[%s] %s\" % (datetime.now(), val)\n",
    "    print(outstr)\n",
    "    logfile.write(outstr)\n",
    "    logfile.write(\"\\n\")\n",
    "    logfile.flush()\n",
    "    \n",
    "lprint(\"Started...\")"
   ]
  },
  {
   "cell_type": "code",
   "execution_count": 3,
   "id": "f4c83570-e9ae-4ce2-9258-0c2bb0ef780b",
   "metadata": {},
   "outputs": [],
   "source": [
    "sfusername = environ.get('sfusername')\n",
    "sfpassword = environ.get('sfpassword')\n",
    "sfsecret = environ.get(\"sfsecret\")\n",
    "sfinstanceurl = environ.get(\"sfinstanceurl\")\n",
    "connstr = environ.get(\"connstr\")"
   ]
  },
  {
   "cell_type": "code",
   "execution_count": 4,
   "id": "5dd7a590-da82-4936-ab95-0b4c94b4c2cf",
   "metadata": {},
   "outputs": [
    {
     "name": "stdout",
     "output_type": "stream",
     "text": [
      "[2023-07-05 09:55:14.550112] Creating engine for mssql+pyodbc://KippNOLA\n"
     ]
    }
   ],
   "source": [
    "lprint(\"Creating engine for %s\" % connstr)\n",
    "engine = sa.create_engine(connstr)"
   ]
  },
  {
   "cell_type": "code",
   "execution_count": 5,
   "id": "38316999-4360-4d79-ae30-c7a7ca230b4e",
   "metadata": {},
   "outputs": [],
   "source": [
    "desiredTables = [\n",
    "    'School_Program__c',\n",
    "    'ConstituentRole',\n",
    "    'ContactProfile',\n",
    "    'Grade_Level__c',\n",
    "    'Address',\n",
    "    'AcademicTerm',\n",
    "    'AcademicYear',\n",
    "    'Display_School__c',\n",
    "    'ContactContactRelation',\n",
    "    'AccountContactRelation',\n",
    "    'AccountContactRole',\n",
    "    'AcademicTermEnrollment',\n",
    "    'Account',\n",
    "    'Contact'\n",
    "]"
   ]
  },
  {
   "cell_type": "code",
   "execution_count": 6,
   "id": "ea24398c-41c7-44b2-94b0-e788406df531",
   "metadata": {},
   "outputs": [],
   "source": [
    "soqlFilters = defaultdict(lambda: \"where IsDeleted = false\", {\n",
    "    'AcademicTermEnrollment':'where Active__c = true and IsDeleted = false'\n",
    "})"
   ]
  },
  {
   "cell_type": "code",
   "execution_count": 7,
   "id": "2ac22aa4-7509-4bf9-bfb2-98a4464074c3",
   "metadata": {},
   "outputs": [
    {
     "name": "stdout",
     "output_type": "stream",
     "text": [
      "[2023-07-05 09:55:14.606185] Creating sessions...\n",
      "[2023-07-05 09:55:15.154272] Session created!\n"
     ]
    }
   ],
   "source": [
    "lprint(\"Creating sessions...\")\n",
    "sf = Salesforce(username=sfusername, password=sfpassword, security_token=sfsecret, instance_url=sfinstanceurl, version='57.0')\n",
    "lprint(\"Session created!\")"
   ]
  },
  {
   "cell_type": "code",
   "execution_count": 8,
   "id": "bb380df4-a9ab-4a38-ade5-18a5d861f0fe",
   "metadata": {},
   "outputs": [
    {
     "name": "stdout",
     "output_type": "stream",
     "text": [
      "[2023-07-05 09:55:15.162219] Getting metadata for School_Program__c\n",
      "[2023-07-05 09:55:15.702276] Getting metadata for ConstituentRole\n",
      "[2023-07-05 09:55:15.905742] Getting metadata for ContactProfile\n",
      "[2023-07-05 09:55:16.102370] Getting metadata for Grade_Level__c\n",
      "[2023-07-05 09:55:16.353444] Getting metadata for Address\n",
      "[2023-07-05 09:55:16.628416] Getting metadata for AcademicTerm\n",
      "[2023-07-05 09:55:16.823734] Getting metadata for AcademicYear\n",
      "[2023-07-05 09:55:17.022027] Getting metadata for Display_School__c\n",
      "[2023-07-05 09:55:17.268002] Getting metadata for AccountContactRole\n"
     ]
    }
   ],
   "source": [
    "metaData = {}\n",
    "\n",
    "for tbl in desiredTables:\n",
    "    fieldDescs = {}\n",
    "    \n",
    "    lprint(\"Getting metadata for %s\" % tbl)\n",
    "    \n",
    "    tblDesc = getattr(sf, tbl).describe()\n",
    "    \n",
    "    for field in tblDesc['fields']:\n",
    "        fieldDescs[field['name']] = {\n",
    "                                'type':field['type'],\n",
    "                                'length':field['length']\n",
    "        }\n",
    "        \n",
    "    \n",
    "    metaData[tbl] = fieldDescs\n",
    "    \n"
   ]
  },
  {
   "cell_type": "code",
   "execution_count": 9,
   "id": "f574eff1-f9f8-4064-bcec-136f4415da11",
   "metadata": {},
   "outputs": [
    {
     "name": "stdout",
     "output_type": "stream",
     "text": [
      "[2023-07-05 09:55:17.489007] Querying data for School_Program__c\n",
      "[2023-07-05 09:55:17.489007] Starting query:  select Id, OwnerId, IsDeleted, Name, CreatedDate, CreatedById, LastModifiedDate, LastModifiedById, SystemModstamp, LastActivityDate, LastViewedDate, LastReferencedDate, School__c, Display_School__c, Legacy_Id__c, Public_Group_Id__c, Address__c, City__c, State__c, Street__c, Zip_Postal_Code__c, MIN_Current_Grades__c, MAX_Current_Grades__c, Auto_Grade_Range__c from School_Program__c where IsDeleted = false\n",
      "[2023-07-05 09:55:17.711311] Finished School_Program__c\n",
      "[2023-07-05 09:55:17.711311] Querying data for ConstituentRole\n",
      "[2023-07-05 09:55:17.711311] Starting query:  select Id, OwnerId, IsDeleted, Name, CreatedDate, CreatedById, LastModifiedDate, LastModifiedById, SystemModstamp, LastViewedDate, LastReferencedDate, PersonId, Description, RoleType, Status, EffectiveStartDate, EffectiveEndDate, ContextRecordId from ConstituentRole where IsDeleted = false\n",
      "[2023-07-05 09:55:17.874725] Finished ConstituentRole\n",
      "[2023-07-05 09:55:17.875494] Querying data for ContactProfile\n",
      "[2023-07-05 09:55:17.875763] Starting query:  select Id, IsDeleted, Name, CreatedDate, CreatedById, LastModifiedDate, LastModifiedById, SystemModstamp, LastViewedDate, LastReferencedDate, ContactId, Race, BirthPlace, BirthCountryId, PrimaryCitizenshipId, PrimaryCitizenshipType, SecondaryCitizenshipId, SecondaryCitizenshipType, MilitaryBranch, MilitaryService, IsFirstGenerationStudent, HighestEducationLevel, Ethnicity from ContactProfile where IsDeleted = false\n",
      "[2023-07-05 09:55:18.022494] Finished ContactProfile\n",
      "[2023-07-05 09:55:18.023177] Querying data for Grade_Level__c\n",
      "[2023-07-05 09:55:18.023495] Starting query:  select Id, IsDeleted, Name, CreatedDate, CreatedById, LastModifiedDate, LastModifiedById, SystemModstamp, LastActivityDate, LastViewedDate, LastReferencedDate, X18_Digit_GC_ID__c, School_Program__c, Accessible_by_School__c, Current_Active_Register__c, Future_Year_Waitlist_Grade__c, Grade__c, Learning_Program__c, Legacy_Id__c, Limited_Availability__c, Next_Grade_Level__c, Order_100_Federal_Poverty__c, Order_Closing_Public__c, Order_Disadvantage__c, Order_Distance__c, Order_Feeder__c, Order_French__c, Order_IEP__c, Order_Military__c, Order_Montessori__c, Order_Sibling_OR_Staff_Child__c, Order_Sibling__c, Order_Staff_Child__c, Order_UNO_Staff__c, Order_Zone__c, Percentage_100_Federal_Poverty__c, Percentage_Closing_Public__c, Percentage_Disadvantage__c, Percentage_Distance__c, Percentage_Feeder__c, Percentage_French__c, Percentage_IEP__c, Percentage_Military__c, Percentage_Montessori__c, Percentage_Sibling_OR_Staff_Child__c, Percentage_Sibling__c, Percentage_Staff_Child__c, Percentage_UNO_Staff__c, Percentage_Zone__c, Projection_Seat_Target__c, Reactivations__c, Requested_10_1_Target__c, Requested_Late_Enrollment_Target__c, Requested_Main_Round_Target__c, Requested_Round_2_Target__c, Round_2_Target_Update__c, Sections__c, Sibling_Unification__c, Split_Zip_Preference_Bounding_Box__c, Students_on_Waitlist__c, Students_with_Accepted_Offers__c, Students_with_Pending_Offers__c, Target_Update_Notes_GC__c, Waitlist_Count__c, Zip_Preference__c, Available_Seats__c, Program_Name__c, Requested_Target_Difference__c, School_Id__c, School_Name__c, Student_Sections__c, Twins_Capacity_Override__c, X10_1_Available_Seats_Extenuating__c, Academic_Term__c, Current_Open_Enrollment_Option__c, Future_Open_Enrollment_Option__c, Order_Attending_C__c, Order_Attending_DF__c, Order_Closing_Non_Public__c, Order_NSECD__c, Order_Non_Transition__c, Order_Transition__c, Percentage_Attending_C__c, Percentage_Attending_DF__c, Percentage_Closing_Non_Public__c, Percentage_NSECD__c, Percentage_Non_Transition__c, Percentage_Transition__c, Academic_Term_Name__c, Grade_Value__c, Avela_Grade_Id__c from Grade_Level__c where IsDeleted = false\n",
      "[2023-07-05 09:55:18.349588] Finished Grade_Level__c\n",
      "[2023-07-05 09:55:18.349588] Querying data for Address\n",
      "[2023-07-05 09:55:18.349588] Starting query:  select Id, IsDeleted, Name, CreatedDate, CreatedById, LastModifiedDate, LastModifiedById, SystemModstamp, ParentId, LocationType, AddressType, Street, City, State, PostalCode, Country, Latitude, Longitude, GeocodeAccuracy, Address, Description, DrivingDirections, TimeZone from Address where IsDeleted = false\n",
      "[2023-07-05 09:55:18.502110] Finished Address\n",
      "[2023-07-05 09:55:18.503402] Querying data for AcademicTerm\n",
      "[2023-07-05 09:55:18.504109] Starting query:  select Id, OwnerId, IsDeleted, Name, CreatedDate, CreatedById, LastModifiedDate, LastModifiedById, SystemModstamp, LastViewedDate, LastReferencedDate, AcademicYearId, Description, Season, IsActive, StartDate, EndDate, RegistrationOpenDate, RegistrationCloseDate, LateRegistrationDate from AcademicTerm where IsDeleted = false\n",
      "[2023-07-05 09:55:18.703816] Finished AcademicTerm\n",
      "[2023-07-05 09:55:18.704765] Querying data for AcademicYear\n",
      "[2023-07-05 09:55:18.705974] Starting query:  select Id, OwnerId, IsDeleted, Name, CreatedDate, CreatedById, LastModifiedDate, LastModifiedById, SystemModstamp, LastViewedDate, LastReferencedDate, Description, Year from AcademicYear where IsDeleted = false\n",
      "[2023-07-05 09:55:18.841533] Finished AcademicYear\n",
      "[2023-07-05 09:55:18.842769] Querying data for Display_School__c\n",
      "[2023-07-05 09:55:18.843529] Starting query:  select Id, OwnerId, IsDeleted, Name, CreatedDate, CreatedById, LastModifiedDate, LastModifiedById, SystemModstamp, LastActivityDate, LastViewedDate, LastReferencedDate, AP_Courses_Offered__c, AP_or_IB_Courses__c, Address_Zone_Primary_Next_Year__c, After_Care_Details__c, After_Care_Monthly_Cost__c, After_Care__c, Annual_Field_Trip_Fees__c, Application_Process_Entrance_Requirement__c, Before_After_Care_Details__c, Before_After_Care_Monthly_Costs__c, Before_Care_Monthly_Costs__c, Before_Care__c, Block_Schedule__c, Community_Partnerships__c, Current_Year_Address__c, Current_Year_Phone__c, Day_End_Time__c, Day_Start_Time__c, Days_of_Care__c, Description__c, Discipline_Model__c, EC_Accepting_Early_Three__c, EC_Additional_Fees__c, EC_Annual_Schedule__c, EC_Cost_Funding_Details__c, EC_Daily_Schedule__c, EC_Eligibility__c, EC_Funding_Source__c, EC_Languages_Spoken_or_Taught__c, EC_License_ID__c, EC_Programs_Features__c, EC_School_Leader__c, EC_Special_Needs_Services_Provided__c, EC_UWID__c, ELL_Coordinator_Email__c, ELL_Coordinator_Name__c, Extended_School_Year_Details__c, Extracurricular_Activities__c, FRC_Notes__c, Facebook_URL__c, Fax__c, Features_Programs__c, First_Day_of_School__c, Full_Time_Support_Staff__c, Garden_Outdoor_Education__c, Geographic_Eligibility__c, Graduation_Rate__c, Hours_of_Operation__c, Instagram_URL__c, Jumpstart_Pathways__c, LEP_Model__c, LHSAA_Sports__c, Language_Interpretation_Available__c, Languages__c, Last_Day_of_School__c, Mission_Statement_Programmatic_Model__c, Music_and_Fine_Arts_Instruction__c, Open_House_Dates__c, Open_House_Information__c, Parent_Group_Details__c, Part_Time_Support_Staff__c, Phone__c, Program_1_Eligibility_2__c, Program_1_Eligibility_3__c, Program_1_Eligibility_Priority_2_Label__c, Program_1_Eligibility_Priority_3_Label__c, Program_1_Eligibility_Priority_Label__c, Program_1_Eligibility__c, Program_1_Name__c, Program_1_Priority_1__c, Program_1_Priority_2__c, Program_1_Priority_3__c, Program_2_Eligibility_1__c, Program_2_Eligibility_2__c, Program_2_Eligibility_Priority_1_Label__c, Program_2_Eligibility_Priority_2_Label__c, Program_2_Name__c, Program_2_Priority_1__c, Program_2_Priority_2__c, Program_3_Eligibility_1__c, Program_3_Eligibility_Priority_1_Lab__c, Program_3_Name__c, Program_3_Priority_1__c, Program_Highlight__c, Public_Email__c, Registration_Fees__c, Schedule_Type__c, SchoolFinder_EC_URL__c, SchoolFinder_URL__c, School_Picture__c, School_Schedule_Details__c, Special_Information__c, Translations__c, Address__c, City__c, State__c, Street__c, Zip_Postal_Code__c from Display_School__c where IsDeleted = false\n",
      "[2023-07-05 09:55:19.390682] Finished Display_School__c\n",
      "[2023-07-05 09:55:19.391638] Querying data for AccountContactRole\n",
      "[2023-07-05 09:55:19.391638] Starting query:  select Id, IsDeleted, CreatedDate, CreatedById, LastModifiedDate, LastModifiedById, SystemModstamp, AccountId, ContactId, Role, IsPrimary from AccountContactRole where IsDeleted = false\n",
      "[2023-07-05 09:55:19.742132] Finished AccountContactRole\n"
     ]
    }
   ],
   "source": [
    "outputData = {}\n",
    "\n",
    "for tbl in desiredTables:\n",
    "    lprint(\"Querying data for %s\" % tbl)\n",
    "    \n",
    "    feilds = \", \".join(metaData[tbl].keys())\n",
    "    \n",
    "    soql = \"select %s from %s %s\" % (feilds, tbl, soqlFilters[tbl])\n",
    "    \n",
    "    \n",
    "    lprint(\"Starting query:  %s\" % soql)\n",
    "    resp = sf.query_all(soql)\n",
    "    \n",
    "    outputData[tbl] = resp\n",
    "    \n",
    "    lprint(\"Finished %s\" % tbl)\n",
    "    "
   ]
  },
  {
   "cell_type": "code",
   "execution_count": 10,
   "id": "5d7c7d0d-a8df-4dac-a889-68d928c51364",
   "metadata": {},
   "outputs": [
    {
     "name": "stdout",
     "output_type": "stream",
     "text": [
      "[2023-07-05 09:55:19.753063] School_Program__c totalRecords 12\n",
      "[2023-07-05 09:55:19.754100] ConstituentRole totalRecords 0\n",
      "[2023-07-05 09:55:19.754100] ContactProfile totalRecords 0\n",
      "[2023-07-05 09:55:19.754100] Grade_Level__c totalRecords 62\n",
      "[2023-07-05 09:55:19.755058] Address totalRecords 0\n",
      "[2023-07-05 09:55:19.755058] AcademicTerm totalRecords 18\n",
      "[2023-07-05 09:55:19.756052] AcademicYear totalRecords 2\n",
      "[2023-07-05 09:55:19.758098] Display_School__c totalRecords 10\n",
      "[2023-07-05 09:55:19.759044] AccountContactRole totalRecords 0\n"
     ]
    }
   ],
   "source": [
    "for tbl in outputData.keys():\n",
    "    lprint(\"%s totalRecords %d\" % (tbl, outputData[tbl]['totalSize']))"
   ]
  },
  {
   "cell_type": "code",
   "execution_count": 11,
   "id": "fe12092c-1883-4e1e-b7f6-f24a6779da0b",
   "metadata": {},
   "outputs": [
    {
     "name": "stdout",
     "output_type": "stream",
     "text": [
      "[2023-07-05 09:55:19.772044] Turning output data into dataframes\n",
      "[2023-07-05 09:55:19.796197] Dropping attributes from AccountContactRole\n",
      "[2023-07-05 09:55:19.799322] School_Program__c shape (12, 24)\n",
      "[2023-07-05 09:55:19.800230] ConstituentRole shape (0, 0)\n",
      "[2023-07-05 09:55:19.800230] ContactProfile shape (0, 0)\n",
      "[2023-07-05 09:55:19.800230] Dropping attributes from AccountContactRole\n",
      "[2023-07-05 09:55:19.801279] Grade_Level__c shape (62, 91)\n",
      "[2023-07-05 09:55:19.801279] Address shape (0, 0)\n",
      "[2023-07-05 09:55:19.801279] Dropping attributes from AccountContactRole\n",
      "[2023-07-05 09:55:19.802256] AcademicTerm shape (18, 20)\n",
      "[2023-07-05 09:55:19.802256] Dropping attributes from AccountContactRole\n",
      "[2023-07-05 09:55:19.802256] AcademicYear shape (2, 13)\n",
      "[2023-07-05 09:55:19.803251] Dropping attributes from AccountContactRole\n",
      "[2023-07-05 09:55:19.803251] Display_School__c shape (10, 110)\n",
      "[2023-07-05 09:55:19.803251] AccountContactRole shape (0, 0)\n"
     ]
    }
   ],
   "source": [
    "lprint(\"Turning output data into dataframes\")\n",
    "dataFrames = {tbl:pd.DataFrame.from_dict(outputData[tbl]['records']) for tbl in desiredTables}\n",
    "\n",
    "for key in dataFrames.keys():\n",
    "    \n",
    "    \n",
    "    if 'attributes' in dataFrames[key].columns:\n",
    "        \n",
    "        lprint(\"Dropping attributes from %s\" % tbl)\n",
    "        dataFrames[key].drop(columns=['attributes'], inplace=True)\n",
    "    \n",
    "    lprint(\"%s shape %s\" % (key, dataFrames[key].shape))"
   ]
  },
  {
   "cell_type": "code",
   "execution_count": 12,
   "id": "6ea6e635-a95c-4e3a-af4a-8f296607d79f",
   "metadata": {},
   "outputs": [
    {
     "name": "stdout",
     "output_type": "stream",
     "text": [
      "[2023-07-05 09:55:19.808242] Converting datetimes for School_Program__c...\n",
      "[2023-07-05 09:55:19.808242] Converting CreatedDate to datetime...\n",
      "[2023-07-05 09:55:19.810201] Converting LastModifiedDate to datetime...\n",
      "[2023-07-05 09:55:19.811232] Converting SystemModstamp to datetime...\n",
      "[2023-07-05 09:55:19.812195] Converting LastActivityDate to datetime...\n",
      "[2023-07-05 09:55:19.813193] Converting LastViewedDate to datetime...\n",
      "[2023-07-05 09:55:19.814193] Converting LastReferencedDate to datetime...\n",
      "[2023-07-05 09:55:19.815187] Converting datetimes for ConstituentRole...\n",
      "[2023-07-05 09:55:19.816199] Converting datetimes for ContactProfile...\n",
      "[2023-07-05 09:55:19.816199] Converting datetimes for Grade_Level__c...\n",
      "[2023-07-05 09:55:19.816199] Converting CreatedDate to datetime...\n",
      "[2023-07-05 09:55:19.819176] Converting LastModifiedDate to datetime...\n",
      "[2023-07-05 09:55:19.820174] Converting SystemModstamp to datetime...\n",
      "[2023-07-05 09:55:19.821173] Converting LastActivityDate to datetime...\n",
      "[2023-07-05 09:55:19.823167] Converting LastViewedDate to datetime...\n",
      "[2023-07-05 09:55:19.825161] Converting LastReferencedDate to datetime...\n",
      "[2023-07-05 09:55:19.827156] Converting datetimes for Address...\n",
      "[2023-07-05 09:55:19.827156] Converting datetimes for AcademicTerm...\n",
      "[2023-07-05 09:55:19.827156] Converting CreatedDate to datetime...\n",
      "[2023-07-05 09:55:19.828153] Converting LastModifiedDate to datetime...\n",
      "[2023-07-05 09:55:19.829150] Converting SystemModstamp to datetime...\n",
      "[2023-07-05 09:55:19.829150] Converting LastViewedDate to datetime...\n",
      "[2023-07-05 09:55:19.830178] Converting LastReferencedDate to datetime...\n",
      "[2023-07-05 09:55:19.832339] Converting StartDate to datetime...\n",
      "[2023-07-05 09:55:19.833177] Converting EndDate to datetime...\n",
      "[2023-07-05 09:55:19.833507] Converting RegistrationOpenDate to datetime...\n",
      "[2023-07-05 09:55:19.834175] Converting RegistrationCloseDate to datetime...\n",
      "[2023-07-05 09:55:19.835165] Converting LateRegistrationDate to datetime...\n",
      "[2023-07-05 09:55:19.836162] Converting datetimes for AcademicYear...\n",
      "[2023-07-05 09:55:19.836162] Converting CreatedDate to datetime...\n",
      "[2023-07-05 09:55:19.837162] Converting LastModifiedDate to datetime...\n",
      "[2023-07-05 09:55:19.838157] Converting SystemModstamp to datetime...\n",
      "[2023-07-05 09:55:19.838780] Converting LastViewedDate to datetime...\n",
      "[2023-07-05 09:55:19.839154] Converting LastReferencedDate to datetime...\n",
      "[2023-07-05 09:55:19.840187] Converting datetimes for Display_School__c...\n",
      "[2023-07-05 09:55:19.840187] Converting CreatedDate to datetime...\n",
      "[2023-07-05 09:55:19.840187] Converting LastModifiedDate to datetime...\n",
      "[2023-07-05 09:55:19.841150] Converting SystemModstamp to datetime...\n",
      "[2023-07-05 09:55:19.842507] Converting LastActivityDate to datetime...\n",
      "[2023-07-05 09:55:19.843143] Converting LastViewedDate to datetime...\n",
      "[2023-07-05 09:55:19.843143] Converting LastReferencedDate to datetime...\n",
      "[2023-07-05 09:55:19.844143] Converting First_Day_of_School__c to datetime...\n",
      "[2023-07-05 09:55:19.845140] Converting Last_Day_of_School__c to datetime...\n",
      "[2023-07-05 09:55:19.846155] Converting datetimes for AccountContactRole...\n"
     ]
    }
   ],
   "source": [
    "for key in dataFrames.keys():\n",
    "    \n",
    "    lprint(\"Converting datetimes for %s...\" % key)\n",
    "    \n",
    "    for col in dataFrames[key].columns:\n",
    "        if metaData[key][col]['type'] in ['date', 'datetime']:\n",
    "            \n",
    "            lprint(\"Converting %s to datetime...\" % col)\n",
    "            \n",
    "            dataFrames[key][col] = pd.to_datetime(dataFrames[key][col])\n",
    "            \n",
    "    \n",
    "    "
   ]
  },
  {
   "cell_type": "code",
   "execution_count": 13,
   "id": "07870450-78da-4199-968e-fe1b4d1023d2",
   "metadata": {},
   "outputs": [],
   "source": [
    "for tbl in dataFrames.keys():\n",
    "    for col in dataFrames[tbl].columns:\n",
    "        \n",
    "        if np.count_nonzero(dataFrames[tbl][col].map(type) == OrderedDict) > 0:\n",
    "            lprint(\"Ordered dict found in %s column %s converting...\" % (tbl, col)) \n",
    "            dataFrames[tbl][col] = dataFrames[tbl][col].astype(str)\n",
    "            \n",
    "            maxLen = dataFrames[tbl][col].str.len().max()\n",
    "            \n",
    "            lprint(\"Updating length for %s column %s to %d...\" % (tbl, col, maxLen)) \n",
    "            \n",
    "            metaData[tbl][col]['length'] = maxLen"
   ]
  },
  {
   "cell_type": "code",
   "execution_count": 14,
   "id": "499adf2e-1cc8-4506-a642-9be75e28f1cf",
   "metadata": {},
   "outputs": [],
   "source": [
    "staticFields = {\n",
    "                 'boolean':sa.Boolean,\n",
    "                 'date':sa.DATE,\n",
    "                 'datetime':sa.DATETIME,\n",
    "                 'double': sa.FLOAT,\n",
    "                 #'email',\n",
    "                 #'id',\n",
    "                 'int':sa.INT,\n",
    "                 #'multipicklist',\n",
    "                 #'picklist',\n",
    "                 #'reference',\n",
    "                 #'string',\n",
    "                 'textarea':sa.TEXT\n",
    "}\n",
    "\n",
    "def getSQLTypes(tbl):\n",
    "    \n",
    "    sqlTypes = {}\n",
    "    \n",
    "    lprint(\"Getting SQLTypes for %s\" % tbl)\n",
    "    \n",
    "    curMeta = metaData[tbl]\n",
    "        \n",
    "    for field in curMeta.keys():\n",
    "        \n",
    "        if curMeta[field]['type'] in staticFields.keys():\n",
    "            sqlTypes[field] = staticFields[curMeta[field]['type']]()\n",
    "            \n",
    "        else:\n",
    "            fieldLen = curMeta[field]['length']\n",
    "            \n",
    "            if fieldLen <= 255:\n",
    "                sqlTypes[field] = sa.NVARCHAR(fieldLen)\n",
    "            \n",
    "            #this is a fix they set some of the custom field max values to weird stuff\n",
    "            elif np.count_nonzero(~pd.isna(dataFrames[tbl][field])) > 0 \\\n",
    "                            and ( fieldLen := int(dataFrames[tbl][field].str.len().max())) <= 255:\n",
    "                sqlTypes[field] = sa.NVARCHAR(fieldLen)                \n",
    "                \n",
    "            else:\n",
    "                sqlTypes[field] = sa.TEXT()\n",
    "            \n",
    "    return sqlTypes\n",
    "            \n",
    "#getSQLTypes('AcademicTermEnrollment')\n"
   ]
  },
  {
   "cell_type": "code",
   "execution_count": 15,
   "id": "93f6200c-fbf9-4603-8fc2-deb6f8c4d165",
   "metadata": {},
   "outputs": [
    {
     "name": "stdout",
     "output_type": "stream",
     "text": [
      "[2023-07-05 09:55:19.947449] Saving School_Program__c to SalesForceEduCloud_School_Program__c.csv\n",
      "[2023-07-05 09:55:19.960911] Finished uploading School_Program__c!\n",
      "[2023-07-05 09:55:19.960911] Saving ConstituentRole to SalesForceEduCloud_ConstituentRole.csv\n",
      "[2023-07-05 09:55:19.961805] Finished uploading ConstituentRole!\n",
      "[2023-07-05 09:55:19.962802] Saving ContactProfile to SalesForceEduCloud_ContactProfile.csv\n",
      "[2023-07-05 09:55:19.963799] Finished uploading ContactProfile!\n",
      "[2023-07-05 09:55:19.963799] Saving Grade_Level__c to SalesForceEduCloud_Grade_Level__c.csv\n",
      "[2023-07-05 09:55:19.974886] Finished uploading Grade_Level__c!\n",
      "[2023-07-05 09:55:19.975705] Saving Address to SalesForceEduCloud_Address.csv\n",
      "[2023-07-05 09:55:19.976750] Finished uploading Address!\n",
      "[2023-07-05 09:55:19.976750] Saving AcademicTerm to SalesForceEduCloud_AcademicTerm.csv\n",
      "[2023-07-05 09:55:19.980787] Finished uploading AcademicTerm!\n",
      "[2023-07-05 09:55:19.982184] Saving AcademicYear to SalesForceEduCloud_AcademicYear.csv\n",
      "[2023-07-05 09:55:19.985797] Finished uploading AcademicYear!\n",
      "[2023-07-05 09:55:19.986230] Saving Display_School__c to SalesForceEduCloud_Display_School__c.csv\n",
      "[2023-07-05 09:55:19.993737] Finished uploading Display_School__c!\n",
      "[2023-07-05 09:55:19.993737] Saving AccountContactRole to SalesForceEduCloud_AccountContactRole.csv\n",
      "[2023-07-05 09:55:19.994751] Finished uploading AccountContactRole!\n"
     ]
    }
   ],
   "source": [
    "for tbl in desiredTables:\n",
    "    csvTblName = \"SalesForceEduCloud_%s.csv\" % tbl\n",
    "    lprint(\"Saving %s to %s\" % (tbl, csvTblName))\n",
    "\n",
    "    dataFrames[tbl].to_csv(csvTblName, index=False)\n",
    "\n",
    "    lprint(\"Finished uploading %s!\" % tbl)"
   ]
  },
  {
   "cell_type": "code",
   "execution_count": 16,
   "id": "459112a5-1964-455e-b9d3-4a6276183759",
   "metadata": {},
   "outputs": [
    {
     "name": "stdout",
     "output_type": "stream",
     "text": [
      "[2023-07-05 09:55:25.142765] Getting SQLTypes for School_Program__c\n",
      "[2023-07-05 09:55:25.161401] Uploading table School_Program__c to mssql+pyodbc://KippNOLA/SalesForceEduCloud_School_Program__c\n",
      "[2023-07-05 09:55:28.021291] Finished uploading School_Program__c!\n",
      "[2023-07-05 09:55:28.022287] Skipping ConstituentRole no data!\n",
      "[2023-07-05 09:55:28.022287] Skipping ContactProfile no data!\n",
      "[2023-07-05 09:55:28.023568] Getting SQLTypes for Grade_Level__c\n",
      "[2023-07-05 09:55:28.034917] Uploading table Grade_Level__c to mssql+pyodbc://KippNOLA/SalesForceEduCloud_Grade_Level__c\n",
      "[2023-07-05 09:55:42.140513] Finished uploading Grade_Level__c!\n",
      "[2023-07-05 09:55:42.141736] Skipping Address no data!\n",
      "[2023-07-05 09:55:42.142546] Getting SQLTypes for AcademicTerm\n",
      "[2023-07-05 09:55:42.143544] Uploading table AcademicTerm to mssql+pyodbc://KippNOLA/SalesForceEduCloud_AcademicTerm\n",
      "[2023-07-05 09:55:44.779302] Finished uploading AcademicTerm!\n",
      "[2023-07-05 09:55:44.780324] Getting SQLTypes for AcademicYear\n",
      "[2023-07-05 09:55:44.780324] Uploading table AcademicYear to mssql+pyodbc://KippNOLA/SalesForceEduCloud_AcademicYear\n",
      "[2023-07-05 09:55:46.461360] Finished uploading AcademicYear!\n",
      "[2023-07-05 09:55:46.462407] Getting SQLTypes for Display_School__c\n",
      "[2023-07-05 09:55:46.495037] Uploading table Display_School__c to mssql+pyodbc://KippNOLA/SalesForceEduCloud_Display_School__c\n",
      "[2023-07-05 09:55:51.701209] Finished uploading Display_School__c!\n",
      "[2023-07-05 09:55:51.701974] Skipping AccountContactRole no data!\n"
     ]
    }
   ],
   "source": [
    "with engine.connect() as conn:\n",
    "\n",
    "    for tbl in desiredTables:\n",
    "        \n",
    "        if dataFrames[tbl].shape[0] == 0:\n",
    "            lprint(\"Skipping %s no data!\" % tbl)\n",
    "            continue\n",
    "        \n",
    "        sqlTypes = getSQLTypes(tbl)\n",
    "        \n",
    "        \n",
    "        sqlTblName = \"SalesForceEduCloud_%s\" % tbl\n",
    "        lprint(\"Uploading table %s to %s/%s\" % (tbl, engine.url, sqlTblName))\n",
    "        \n",
    "        dataFrames[tbl].to_sql(sqlTblName, conn, schema='dbo', if_exists='replace', index=False, dtype=sqlTypes)\n",
    "        \n",
    "        lprint(\"Finished uploading %s!\" % tbl)"
   ]
  },
  {
   "cell_type": "code",
   "execution_count": 17,
   "id": "a0674795-ed31-455b-ad19-6fdc45ec84b2",
   "metadata": {},
   "outputs": [
    {
     "name": "stdout",
     "output_type": "stream",
     "text": [
      "[2023-07-03 17:15:45.718545] =============DONE!===================\n"
     ]
    }
   ],
   "source": [
    "lprint(\"=============DONE!===================\")"
   ]
  },
  {
   "cell_type": "code",
   "execution_count": 18,
   "id": "2606ed15-29e9-408a-82de-a65539af2a4e",
   "metadata": {},
   "outputs": [],
   "source": [
    "logfile.close()"
   ]
  },
  {
   "cell_type": "code",
   "execution_count": 19,
   "id": "ef3d93d5-c6ce-4749-8099-b24ce82da590",
   "metadata": {},
   "outputs": [
    {
     "name": "stdout",
     "output_type": "stream",
     "text": [
      "Log file closed\n"
     ]
    }
   ],
   "source": [
    "print(\"Log file closed\")"
   ]
  },
  {
   "cell_type": "code",
   "execution_count": null,
   "id": "bd05b391-0146-4bb5-826f-5e4c7c98046f",
   "metadata": {},
   "outputs": [],
   "source": []
  }
 ],
 "metadata": {
  "kernelspec": {
   "display_name": "Python 3 (ipykernel)",
   "language": "python",
   "name": "python3"
  },
  "language_info": {
   "codemirror_mode": {
    "name": "ipython",
    "version": 3
   },
   "file_extension": ".py",
   "mimetype": "text/x-python",
   "name": "python",
   "nbconvert_exporter": "python",
   "pygments_lexer": "ipython3",
   "version": "3.10.1"
  }
 },
 "nbformat": 4,
 "nbformat_minor": 5
}
